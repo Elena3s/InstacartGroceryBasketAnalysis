{
 "cells": [
  {
   "cell_type": "markdown",
   "id": "4a2bc1c7",
   "metadata": {},
   "source": [
    "# CODING ETIQUETTE & EXCEL REPORTING (Task)"
   ]
  },
  {
   "cell_type": "markdown",
   "id": "a5c494d2",
   "metadata": {},
   "source": [
    "# 1. Installing libraries"
   ]
  },
  {
   "cell_type": "markdown",
   "id": "7aaa5fc0",
   "metadata": {},
   "source": [
    "# 2. Importing 'orders_products_customers_merged.pkl' as 'ords_prods_cust'"
   ]
  },
  {
   "cell_type": "markdown",
   "id": "deacc3d5",
   "metadata": {},
   "source": [
    "# 3. Security implications for this data"
   ]
  },
  {
   "cell_type": "markdown",
   "id": "e02e8bed",
   "metadata": {},
   "source": [
    "# 4. Creating a “Region” column based on the “State” column"
   ]
  },
  {
   "cell_type": "markdown",
   "id": "89f1d91a",
   "metadata": {},
   "source": [
    "# 5. Creating an exclusion flag for low-activity customers (< 5 orders) and exclude them from the data"
   ]
  },
  {
   "cell_type": "markdown",
   "id": "2dfd1fa7",
   "metadata": {},
   "source": [
    "# 6. Creating a profiling variable"
   ]
  },
  {
   "cell_type": "markdown",
   "id": "246fae40",
   "metadata": {},
   "source": [
    "# 7. Creating bar chart to show the distribution of profiles"
   ]
  },
  {
   "cell_type": "markdown",
   "id": "d466655b",
   "metadata": {},
   "source": [
    "# 8. Aggregating the max, mean, and min variables on a customer-profile level for usage frequency and expenditure"
   ]
  },
  {
   "cell_type": "markdown",
   "id": "c74437fd",
   "metadata": {},
   "source": [
    "# 9. Comparing customer profiles with regions"
   ]
  },
  {
   "cell_type": "markdown",
   "id": "16ed170a",
   "metadata": {},
   "source": [
    "# 10. Comparing customer profiles with ordering habits"
   ]
  },
  {
   "cell_type": "markdown",
   "id": "22ee9f44",
   "metadata": {},
   "source": [
    "# 11. Comparing customer profiles with spending habits"
   ]
  },
  {
   "cell_type": "markdown",
   "id": "d4fcaf7a",
   "metadata": {},
   "source": [
    "# 12. Producing and exporting charts to illustrate results"
   ]
  },
  {
   "cell_type": "markdown",
   "id": "0b50af41",
   "metadata": {},
   "source": [
    "# 13. Exporting the final data set 'ords_prods_cust_with_profile'"
   ]
  },
  {
   "cell_type": "markdown",
   "id": "29c50982",
   "metadata": {},
   "source": [
    "# 14. Additional charts for the final report"
   ]
  },
  {
   "cell_type": "code",
   "execution_count": 1,
   "id": "925c29bc",
   "metadata": {},
   "outputs": [],
   "source": [
    "# ----------------------------------------------"
   ]
  },
  {
   "cell_type": "markdown",
   "id": "4e9f61d8",
   "metadata": {},
   "source": [
    "# 1. Installing libraries"
   ]
  },
  {
   "cell_type": "code",
   "execution_count": 2,
   "id": "ac603768",
   "metadata": {},
   "outputs": [],
   "source": [
    "# Install libraries:\n",
    "\n",
    "import pandas as pd\n",
    "import numpy as np\n",
    "import os\n",
    "import matplotlib.pyplot as plt\n",
    "import seaborn as sns\n",
    "import scipy"
   ]
  },
  {
   "cell_type": "markdown",
   "id": "ce0d18f9",
   "metadata": {},
   "source": [
    "# 2. Importing 'orders_products_customers_merged.pkl' as 'ords_prods_cust'"
   ]
  },
  {
   "cell_type": "code",
   "execution_count": 3,
   "id": "7f1d2f39",
   "metadata": {},
   "outputs": [],
   "source": [
    "# Define the path:\n",
    "    \n",
    "path = r'/Users/elena/Documents/Data Analytics Course/4. Python fundamentals for Data Analysts/Instacart Basket Analysis'"
   ]
  },
  {
   "cell_type": "code",
   "execution_count": 4,
   "id": "0cb0483c",
   "metadata": {},
   "outputs": [],
   "source": [
    "# Import 'orders_products_customers_merged.pkl':\n",
    "\n",
    "ords_prods_cust = pd.read_pickle(os.path.join(path, '02 Data','Prepared data','orders_products_customers_merged.pkl'))"
   ]
  },
  {
   "cell_type": "code",
   "execution_count": 5,
   "id": "fe915926",
   "metadata": {},
   "outputs": [],
   "source": [
    "# Show all the columns:\n",
    "\n",
    "pd.set_option('display.max_columns', None)"
   ]
  },
  {
   "cell_type": "code",
   "execution_count": 6,
   "id": "09bfef08",
   "metadata": {},
   "outputs": [
    {
     "data": {
      "text/plain": [
       "(32404859, 35)"
      ]
     },
     "execution_count": 6,
     "metadata": {},
     "output_type": "execute_result"
    }
   ],
   "source": [
    "# Shape of \"ords_prods_cust':\n",
    "\n",
    "ords_prods_cust.shape"
   ]
  },
  {
   "cell_type": "code",
   "execution_count": 7,
   "id": "4e59eb29",
   "metadata": {},
   "outputs": [
    {
     "data": {
      "text/html": [
       "<div>\n",
       "<style scoped>\n",
       "    .dataframe tbody tr th:only-of-type {\n",
       "        vertical-align: middle;\n",
       "    }\n",
       "\n",
       "    .dataframe tbody tr th {\n",
       "        vertical-align: top;\n",
       "    }\n",
       "\n",
       "    .dataframe thead th {\n",
       "        text-align: right;\n",
       "    }\n",
       "</style>\n",
       "<table border=\"1\" class=\"dataframe\">\n",
       "  <thead>\n",
       "    <tr style=\"text-align: right;\">\n",
       "      <th></th>\n",
       "      <th>user_id</th>\n",
       "      <th>first_name</th>\n",
       "      <th>last_name</th>\n",
       "      <th>Gender</th>\n",
       "      <th>STATE</th>\n",
       "      <th>Age</th>\n",
       "      <th>no_of_dependants</th>\n",
       "      <th>fam_status</th>\n",
       "      <th>income</th>\n",
       "      <th>Unnamed: 0.1</th>\n",
       "      <th>Unnamed: 0_x</th>\n",
       "      <th>order_id</th>\n",
       "      <th>order_number</th>\n",
       "      <th>orders_day_of_week</th>\n",
       "      <th>time_of_order, hour</th>\n",
       "      <th>days_since_prior_order</th>\n",
       "      <th>product_id</th>\n",
       "      <th>add_to_cart_order</th>\n",
       "      <th>reordered</th>\n",
       "      <th>Unnamed: 0_y</th>\n",
       "      <th>product_name</th>\n",
       "      <th>aisle_id</th>\n",
       "      <th>department_id</th>\n",
       "      <th>prices</th>\n",
       "      <th>price_range_loc</th>\n",
       "      <th>busiest_day</th>\n",
       "      <th>busy_slow_days</th>\n",
       "      <th>busiest_period_of_day</th>\n",
       "      <th>max_order</th>\n",
       "      <th>loyalty_flag</th>\n",
       "      <th>mean_price</th>\n",
       "      <th>spending_flag</th>\n",
       "      <th>median_days_since</th>\n",
       "      <th>frequency_flag</th>\n",
       "      <th>_merge</th>\n",
       "    </tr>\n",
       "  </thead>\n",
       "  <tbody>\n",
       "    <tr>\n",
       "      <th>0</th>\n",
       "      <td>26711</td>\n",
       "      <td>Deborah</td>\n",
       "      <td>Esquivel</td>\n",
       "      <td>Female</td>\n",
       "      <td>Missouri</td>\n",
       "      <td>48</td>\n",
       "      <td>3</td>\n",
       "      <td>married</td>\n",
       "      <td>165665</td>\n",
       "      <td>443895</td>\n",
       "      <td>443895</td>\n",
       "      <td>2543867</td>\n",
       "      <td>5</td>\n",
       "      <td>1</td>\n",
       "      <td>9</td>\n",
       "      <td>30.0</td>\n",
       "      <td>196</td>\n",
       "      <td>2</td>\n",
       "      <td>0</td>\n",
       "      <td>195</td>\n",
       "      <td>Soda</td>\n",
       "      <td>77</td>\n",
       "      <td>7</td>\n",
       "      <td>9.0</td>\n",
       "      <td>Mid range product</td>\n",
       "      <td>Regularly busy</td>\n",
       "      <td>Busiest days</td>\n",
       "      <td>Most orders</td>\n",
       "      <td>8</td>\n",
       "      <td>New customer</td>\n",
       "      <td>7.988889</td>\n",
       "      <td>Low spender</td>\n",
       "      <td>19.0</td>\n",
       "      <td>Regular customer</td>\n",
       "      <td>both</td>\n",
       "    </tr>\n",
       "    <tr>\n",
       "      <th>1</th>\n",
       "      <td>26711</td>\n",
       "      <td>Deborah</td>\n",
       "      <td>Esquivel</td>\n",
       "      <td>Female</td>\n",
       "      <td>Missouri</td>\n",
       "      <td>48</td>\n",
       "      <td>3</td>\n",
       "      <td>married</td>\n",
       "      <td>165665</td>\n",
       "      <td>443897</td>\n",
       "      <td>443897</td>\n",
       "      <td>1285508</td>\n",
       "      <td>7</td>\n",
       "      <td>5</td>\n",
       "      <td>15</td>\n",
       "      <td>11.0</td>\n",
       "      <td>196</td>\n",
       "      <td>1</td>\n",
       "      <td>1</td>\n",
       "      <td>195</td>\n",
       "      <td>Soda</td>\n",
       "      <td>77</td>\n",
       "      <td>7</td>\n",
       "      <td>9.0</td>\n",
       "      <td>Mid range product</td>\n",
       "      <td>Regularly busy</td>\n",
       "      <td>Regularly busy</td>\n",
       "      <td>Most orders</td>\n",
       "      <td>8</td>\n",
       "      <td>New customer</td>\n",
       "      <td>7.988889</td>\n",
       "      <td>Low spender</td>\n",
       "      <td>19.0</td>\n",
       "      <td>Regular customer</td>\n",
       "      <td>both</td>\n",
       "    </tr>\n",
       "    <tr>\n",
       "      <th>2</th>\n",
       "      <td>26711</td>\n",
       "      <td>Deborah</td>\n",
       "      <td>Esquivel</td>\n",
       "      <td>Female</td>\n",
       "      <td>Missouri</td>\n",
       "      <td>48</td>\n",
       "      <td>3</td>\n",
       "      <td>married</td>\n",
       "      <td>165665</td>\n",
       "      <td>443898</td>\n",
       "      <td>443898</td>\n",
       "      <td>2578584</td>\n",
       "      <td>8</td>\n",
       "      <td>1</td>\n",
       "      <td>15</td>\n",
       "      <td>10.0</td>\n",
       "      <td>196</td>\n",
       "      <td>2</td>\n",
       "      <td>1</td>\n",
       "      <td>195</td>\n",
       "      <td>Soda</td>\n",
       "      <td>77</td>\n",
       "      <td>7</td>\n",
       "      <td>9.0</td>\n",
       "      <td>Mid range product</td>\n",
       "      <td>Regularly busy</td>\n",
       "      <td>Busiest days</td>\n",
       "      <td>Most orders</td>\n",
       "      <td>8</td>\n",
       "      <td>New customer</td>\n",
       "      <td>7.988889</td>\n",
       "      <td>Low spender</td>\n",
       "      <td>19.0</td>\n",
       "      <td>Regular customer</td>\n",
       "      <td>both</td>\n",
       "    </tr>\n",
       "    <tr>\n",
       "      <th>3</th>\n",
       "      <td>26711</td>\n",
       "      <td>Deborah</td>\n",
       "      <td>Esquivel</td>\n",
       "      <td>Female</td>\n",
       "      <td>Missouri</td>\n",
       "      <td>48</td>\n",
       "      <td>3</td>\n",
       "      <td>married</td>\n",
       "      <td>165665</td>\n",
       "      <td>443892</td>\n",
       "      <td>443892</td>\n",
       "      <td>423547</td>\n",
       "      <td>2</td>\n",
       "      <td>2</td>\n",
       "      <td>9</td>\n",
       "      <td>14.0</td>\n",
       "      <td>38928</td>\n",
       "      <td>1</td>\n",
       "      <td>0</td>\n",
       "      <td>38932</td>\n",
       "      <td>0% Greek Strained Yogurt</td>\n",
       "      <td>120</td>\n",
       "      <td>16</td>\n",
       "      <td>12.6</td>\n",
       "      <td>Mid range product</td>\n",
       "      <td>Regularly busy</td>\n",
       "      <td>Regularly busy</td>\n",
       "      <td>Most orders</td>\n",
       "      <td>8</td>\n",
       "      <td>New customer</td>\n",
       "      <td>7.988889</td>\n",
       "      <td>Low spender</td>\n",
       "      <td>19.0</td>\n",
       "      <td>Regular customer</td>\n",
       "      <td>both</td>\n",
       "    </tr>\n",
       "    <tr>\n",
       "      <th>4</th>\n",
       "      <td>26711</td>\n",
       "      <td>Deborah</td>\n",
       "      <td>Esquivel</td>\n",
       "      <td>Female</td>\n",
       "      <td>Missouri</td>\n",
       "      <td>48</td>\n",
       "      <td>3</td>\n",
       "      <td>married</td>\n",
       "      <td>165665</td>\n",
       "      <td>443893</td>\n",
       "      <td>443893</td>\n",
       "      <td>2524893</td>\n",
       "      <td>3</td>\n",
       "      <td>3</td>\n",
       "      <td>11</td>\n",
       "      <td>30.0</td>\n",
       "      <td>38928</td>\n",
       "      <td>1</td>\n",
       "      <td>1</td>\n",
       "      <td>38932</td>\n",
       "      <td>0% Greek Strained Yogurt</td>\n",
       "      <td>120</td>\n",
       "      <td>16</td>\n",
       "      <td>12.6</td>\n",
       "      <td>Mid range product</td>\n",
       "      <td>Regularly busy</td>\n",
       "      <td>Slowest days</td>\n",
       "      <td>Most orders</td>\n",
       "      <td>8</td>\n",
       "      <td>New customer</td>\n",
       "      <td>7.988889</td>\n",
       "      <td>Low spender</td>\n",
       "      <td>19.0</td>\n",
       "      <td>Regular customer</td>\n",
       "      <td>both</td>\n",
       "    </tr>\n",
       "  </tbody>\n",
       "</table>\n",
       "</div>"
      ],
      "text/plain": [
       "  user_id first_name last_name  Gender     STATE  Age  no_of_dependants  \\\n",
       "0   26711    Deborah  Esquivel  Female  Missouri   48                 3   \n",
       "1   26711    Deborah  Esquivel  Female  Missouri   48                 3   \n",
       "2   26711    Deborah  Esquivel  Female  Missouri   48                 3   \n",
       "3   26711    Deborah  Esquivel  Female  Missouri   48                 3   \n",
       "4   26711    Deborah  Esquivel  Female  Missouri   48                 3   \n",
       "\n",
       "  fam_status  income  Unnamed: 0.1  Unnamed: 0_x  order_id  order_number  \\\n",
       "0    married  165665        443895        443895   2543867             5   \n",
       "1    married  165665        443897        443897   1285508             7   \n",
       "2    married  165665        443898        443898   2578584             8   \n",
       "3    married  165665        443892        443892    423547             2   \n",
       "4    married  165665        443893        443893   2524893             3   \n",
       "\n",
       "   orders_day_of_week  time_of_order, hour  days_since_prior_order  \\\n",
       "0                   1                    9                    30.0   \n",
       "1                   5                   15                    11.0   \n",
       "2                   1                   15                    10.0   \n",
       "3                   2                    9                    14.0   \n",
       "4                   3                   11                    30.0   \n",
       "\n",
       "   product_id  add_to_cart_order  reordered  Unnamed: 0_y  \\\n",
       "0         196                  2          0           195   \n",
       "1         196                  1          1           195   \n",
       "2         196                  2          1           195   \n",
       "3       38928                  1          0         38932   \n",
       "4       38928                  1          1         38932   \n",
       "\n",
       "               product_name  aisle_id  department_id  prices  \\\n",
       "0                      Soda        77              7     9.0   \n",
       "1                      Soda        77              7     9.0   \n",
       "2                      Soda        77              7     9.0   \n",
       "3  0% Greek Strained Yogurt       120             16    12.6   \n",
       "4  0% Greek Strained Yogurt       120             16    12.6   \n",
       "\n",
       "     price_range_loc     busiest_day  busy_slow_days busiest_period_of_day  \\\n",
       "0  Mid range product  Regularly busy    Busiest days           Most orders   \n",
       "1  Mid range product  Regularly busy  Regularly busy           Most orders   \n",
       "2  Mid range product  Regularly busy    Busiest days           Most orders   \n",
       "3  Mid range product  Regularly busy  Regularly busy           Most orders   \n",
       "4  Mid range product  Regularly busy    Slowest days           Most orders   \n",
       "\n",
       "   max_order  loyalty_flag  mean_price spending_flag  median_days_since  \\\n",
       "0          8  New customer    7.988889   Low spender               19.0   \n",
       "1          8  New customer    7.988889   Low spender               19.0   \n",
       "2          8  New customer    7.988889   Low spender               19.0   \n",
       "3          8  New customer    7.988889   Low spender               19.0   \n",
       "4          8  New customer    7.988889   Low spender               19.0   \n",
       "\n",
       "     frequency_flag _merge  \n",
       "0  Regular customer   both  \n",
       "1  Regular customer   both  \n",
       "2  Regular customer   both  \n",
       "3  Regular customer   both  \n",
       "4  Regular customer   both  "
      ]
     },
     "execution_count": 7,
     "metadata": {},
     "output_type": "execute_result"
    }
   ],
   "source": [
    "ords_prods_cust.head()"
   ]
  },
  {
   "cell_type": "markdown",
   "id": "0385ab08",
   "metadata": {},
   "source": [
    "# 3. Security implications for this data"
   ]
  },
  {
   "cell_type": "markdown",
   "id": "1fea9b36",
   "metadata": {},
   "source": [
    "The Customer Data Set, if it were a dataframe made of real data, would be considered PII. Since for the purpose of the current project the data in Customer Data Set was improvised, analyzing the data and publishing the results thereof do not contradict the data security practices."
   ]
  },
  {
   "cell_type": "markdown",
   "id": "14816932",
   "metadata": {},
   "source": [
    "# 4. Creating a “Region” column based on the “State” column"
   ]
  },
  {
   "cell_type": "code",
   "execution_count": 8,
   "id": "872b0a6b",
   "metadata": {},
   "outputs": [],
   "source": [
    "# Create a list that contains values: 'Region 1', 'Region 2', 'Region 3' and 'Region 4'\n",
    "\n",
    "regions = []\n",
    "\n",
    "for x in ords_prods_cust['STATE']:\n",
    "    if x == 'Maine' or x == 'New Hampshire' or x == 'Vermont' or x == 'Massachusetts' or x == 'Rhode Island' or x == 'Connecticut' or x == 'New York' or x =='Pennsylvania' or x == 'New Jersey':\n",
    "        regions.append('Region 1')\n",
    "    elif x == 'Wisconsin' or x == 'Michigan' or x == 'Illinois' or x == 'Indiana' or x == 'Ohio' or x == 'North Dakota' or x == 'South Dakota' or x == 'Nebraska' or x == 'Kansas' or x == 'Minnesota' or x == 'Iowa' or x == 'Missouri':\n",
    "        regions.append('Region 2')                \n",
    "    elif x == 'Delaware' or x == 'Maryland' or x == 'District of Columbia' or x == 'Virginia' or x == 'West Virginia' or x == 'North Carolina' or x == 'South Carolina' or x == 'Georgia' or x == 'Florida' or x == 'Kentucky' or x == 'Tennessee' or x == 'Mississippi' or x == 'Alabama' or x == 'Oklahoma' or x == 'Texas' or x == 'Arkansas' or x == 'Louisiana':\n",
    "        regions.append('Region 3')\n",
    "    else:\n",
    "        regions.append('Region 4')# 4. Creating a “Region” column based on the “State” column"
   ]
  },
  {
   "cell_type": "code",
   "execution_count": 9,
   "id": "8c76916a",
   "metadata": {},
   "outputs": [],
   "source": [
    "# Create a new column 'Region' and populate it with 'regions' list:\n",
    "\n",
    "ords_prods_cust['Region'] = regions"
   ]
  },
  {
   "cell_type": "code",
   "execution_count": 10,
   "id": "3a2cc84e",
   "metadata": {},
   "outputs": [],
   "source": [
    "# Cross 'Region' and 'spending_flag' to find the difference in spending among regions:\n",
    "\n",
    "crosstab = pd.crosstab(ords_prods_cust['Region'], ords_prods_cust['spending_flag'], dropna = False)"
   ]
  },
  {
   "cell_type": "code",
   "execution_count": 11,
   "id": "cb4c4d9a",
   "metadata": {},
   "outputs": [],
   "source": [
    "crosstab.to_clipboard()"
   ]
  },
  {
   "cell_type": "markdown",
   "id": "25693921",
   "metadata": {},
   "source": [
    "#### Determine whether there’s a difference in spending habits between the different U.S. regions. "
   ]
  },
  {
   "cell_type": "markdown",
   "id": "2744fe6e",
   "metadata": {},
   "source": [
    "# 5. Creating an exclusion flag for low-activity customers (< 5 orders) and exclude them from the data"
   ]
  },
  {
   "cell_type": "code",
   "execution_count": 12,
   "id": "1d63fcee",
   "metadata": {},
   "outputs": [],
   "source": [
    "# Create 'max_order' column with number of orders for each customer:\n",
    "    \n",
    "ords_prods_cust['max_order'] = ords_prods_cust.groupby(['user_id'])['order_number'].transform(np.max)"
   ]
  },
  {
   "cell_type": "code",
   "execution_count": 13,
   "id": "b3b4a9e9",
   "metadata": {},
   "outputs": [],
   "source": [
    "# Create a 'low_activity_flag' based on the amount of orders:\n",
    "\n",
    "ords_prods_cust.loc[ords_prods_cust['max_order'] < 5, 'low_activity_flag'] = 'Low-activity customer'"
   ]
  },
  {
   "cell_type": "code",
   "execution_count": 14,
   "id": "af38af8a",
   "metadata": {},
   "outputs": [],
   "source": [
    "ords_prods_cust.loc[ords_prods_cust['max_order'] >= 5, 'low_activity_flag'] = 'Active customer'"
   ]
  },
  {
   "cell_type": "code",
   "execution_count": 15,
   "id": "2340559d",
   "metadata": {},
   "outputs": [],
   "source": [
    "# Create a low_activity_cust_sample:\n",
    "\n",
    "low_act_cust_sample = ords_prods_cust[ords_prods_cust['low_activity_flag'] == 'Low-activity customer']"
   ]
  },
  {
   "cell_type": "code",
   "execution_count": 16,
   "id": "f6f9cd96",
   "metadata": {},
   "outputs": [],
   "source": [
    "# Export the 'Low-activity customer' sample:\n",
    "\n",
    "low_act_cust_sample.to_pickle(os.path.join(path, '02 Data','Prepared Data','low_activity_customer_sample.pkl'))"
   ]
  },
  {
   "cell_type": "code",
   "execution_count": 17,
   "id": "811f8cb8",
   "metadata": {},
   "outputs": [
    {
     "data": {
      "text/plain": [
       "(1440295, 37)"
      ]
     },
     "execution_count": 17,
     "metadata": {},
     "output_type": "execute_result"
    }
   ],
   "source": [
    "low_act_cust_sample.shape"
   ]
  },
  {
   "cell_type": "code",
   "execution_count": 18,
   "id": "43e981ae",
   "metadata": {},
   "outputs": [],
   "source": [
    "# Exclude 'Low-activity customer' from the data:\n",
    "    \n",
    "ords_prods_cust = ords_prods_cust[ords_prods_cust['low_activity_flag'] == 'Active customer']"
   ]
  },
  {
   "cell_type": "code",
   "execution_count": 19,
   "id": "749eb773",
   "metadata": {},
   "outputs": [
    {
     "data": {
      "text/plain": [
       "(30964564, 37)"
      ]
     },
     "execution_count": 19,
     "metadata": {},
     "output_type": "execute_result"
    }
   ],
   "source": [
    "ords_prods_cust.shape"
   ]
  },
  {
   "cell_type": "code",
   "execution_count": 20,
   "id": "2ad0d739",
   "metadata": {},
   "outputs": [
    {
     "data": {
      "text/plain": [
       "Active customer    30964564\n",
       "Name: low_activity_flag, dtype: int64"
      ]
     },
     "execution_count": 20,
     "metadata": {},
     "output_type": "execute_result"
    }
   ],
   "source": [
    "ords_prods_cust['low_activity_flag'].value_counts(dropna = False)"
   ]
  },
  {
   "cell_type": "markdown",
   "id": "ad1d7628",
   "metadata": {},
   "source": [
    "# 6. Creating a profiling variable"
   ]
  },
  {
   "cell_type": "code",
   "execution_count": 21,
   "id": "7f82e88a",
   "metadata": {},
   "outputs": [
    {
     "data": {
      "text/html": [
       "<div>\n",
       "<style scoped>\n",
       "    .dataframe tbody tr th:only-of-type {\n",
       "        vertical-align: middle;\n",
       "    }\n",
       "\n",
       "    .dataframe tbody tr th {\n",
       "        vertical-align: top;\n",
       "    }\n",
       "\n",
       "    .dataframe thead th {\n",
       "        text-align: right;\n",
       "    }\n",
       "</style>\n",
       "<table border=\"1\" class=\"dataframe\">\n",
       "  <thead>\n",
       "    <tr style=\"text-align: right;\">\n",
       "      <th></th>\n",
       "      <th>user_id</th>\n",
       "      <th>first_name</th>\n",
       "      <th>last_name</th>\n",
       "      <th>Gender</th>\n",
       "      <th>STATE</th>\n",
       "      <th>Age</th>\n",
       "      <th>no_of_dependants</th>\n",
       "      <th>fam_status</th>\n",
       "      <th>income</th>\n",
       "      <th>Unnamed: 0.1</th>\n",
       "      <th>Unnamed: 0_x</th>\n",
       "      <th>order_id</th>\n",
       "      <th>order_number</th>\n",
       "      <th>orders_day_of_week</th>\n",
       "      <th>time_of_order, hour</th>\n",
       "      <th>days_since_prior_order</th>\n",
       "      <th>product_id</th>\n",
       "      <th>add_to_cart_order</th>\n",
       "      <th>reordered</th>\n",
       "      <th>Unnamed: 0_y</th>\n",
       "      <th>product_name</th>\n",
       "      <th>aisle_id</th>\n",
       "      <th>department_id</th>\n",
       "      <th>prices</th>\n",
       "      <th>price_range_loc</th>\n",
       "      <th>busiest_day</th>\n",
       "      <th>busy_slow_days</th>\n",
       "      <th>busiest_period_of_day</th>\n",
       "      <th>max_order</th>\n",
       "      <th>loyalty_flag</th>\n",
       "      <th>mean_price</th>\n",
       "      <th>spending_flag</th>\n",
       "      <th>median_days_since</th>\n",
       "      <th>frequency_flag</th>\n",
       "      <th>_merge</th>\n",
       "      <th>Region</th>\n",
       "      <th>low_activity_flag</th>\n",
       "    </tr>\n",
       "  </thead>\n",
       "  <tbody>\n",
       "    <tr>\n",
       "      <th>0</th>\n",
       "      <td>26711</td>\n",
       "      <td>Deborah</td>\n",
       "      <td>Esquivel</td>\n",
       "      <td>Female</td>\n",
       "      <td>Missouri</td>\n",
       "      <td>48</td>\n",
       "      <td>3</td>\n",
       "      <td>married</td>\n",
       "      <td>165665</td>\n",
       "      <td>443895</td>\n",
       "      <td>443895</td>\n",
       "      <td>2543867</td>\n",
       "      <td>5</td>\n",
       "      <td>1</td>\n",
       "      <td>9</td>\n",
       "      <td>30.0</td>\n",
       "      <td>196</td>\n",
       "      <td>2</td>\n",
       "      <td>0</td>\n",
       "      <td>195</td>\n",
       "      <td>Soda</td>\n",
       "      <td>77</td>\n",
       "      <td>7</td>\n",
       "      <td>9.0</td>\n",
       "      <td>Mid range product</td>\n",
       "      <td>Regularly busy</td>\n",
       "      <td>Busiest days</td>\n",
       "      <td>Most orders</td>\n",
       "      <td>8</td>\n",
       "      <td>New customer</td>\n",
       "      <td>7.988889</td>\n",
       "      <td>Low spender</td>\n",
       "      <td>19.0</td>\n",
       "      <td>Regular customer</td>\n",
       "      <td>both</td>\n",
       "      <td>Region 2</td>\n",
       "      <td>Active customer</td>\n",
       "    </tr>\n",
       "    <tr>\n",
       "      <th>1</th>\n",
       "      <td>26711</td>\n",
       "      <td>Deborah</td>\n",
       "      <td>Esquivel</td>\n",
       "      <td>Female</td>\n",
       "      <td>Missouri</td>\n",
       "      <td>48</td>\n",
       "      <td>3</td>\n",
       "      <td>married</td>\n",
       "      <td>165665</td>\n",
       "      <td>443897</td>\n",
       "      <td>443897</td>\n",
       "      <td>1285508</td>\n",
       "      <td>7</td>\n",
       "      <td>5</td>\n",
       "      <td>15</td>\n",
       "      <td>11.0</td>\n",
       "      <td>196</td>\n",
       "      <td>1</td>\n",
       "      <td>1</td>\n",
       "      <td>195</td>\n",
       "      <td>Soda</td>\n",
       "      <td>77</td>\n",
       "      <td>7</td>\n",
       "      <td>9.0</td>\n",
       "      <td>Mid range product</td>\n",
       "      <td>Regularly busy</td>\n",
       "      <td>Regularly busy</td>\n",
       "      <td>Most orders</td>\n",
       "      <td>8</td>\n",
       "      <td>New customer</td>\n",
       "      <td>7.988889</td>\n",
       "      <td>Low spender</td>\n",
       "      <td>19.0</td>\n",
       "      <td>Regular customer</td>\n",
       "      <td>both</td>\n",
       "      <td>Region 2</td>\n",
       "      <td>Active customer</td>\n",
       "    </tr>\n",
       "    <tr>\n",
       "      <th>2</th>\n",
       "      <td>26711</td>\n",
       "      <td>Deborah</td>\n",
       "      <td>Esquivel</td>\n",
       "      <td>Female</td>\n",
       "      <td>Missouri</td>\n",
       "      <td>48</td>\n",
       "      <td>3</td>\n",
       "      <td>married</td>\n",
       "      <td>165665</td>\n",
       "      <td>443898</td>\n",
       "      <td>443898</td>\n",
       "      <td>2578584</td>\n",
       "      <td>8</td>\n",
       "      <td>1</td>\n",
       "      <td>15</td>\n",
       "      <td>10.0</td>\n",
       "      <td>196</td>\n",
       "      <td>2</td>\n",
       "      <td>1</td>\n",
       "      <td>195</td>\n",
       "      <td>Soda</td>\n",
       "      <td>77</td>\n",
       "      <td>7</td>\n",
       "      <td>9.0</td>\n",
       "      <td>Mid range product</td>\n",
       "      <td>Regularly busy</td>\n",
       "      <td>Busiest days</td>\n",
       "      <td>Most orders</td>\n",
       "      <td>8</td>\n",
       "      <td>New customer</td>\n",
       "      <td>7.988889</td>\n",
       "      <td>Low spender</td>\n",
       "      <td>19.0</td>\n",
       "      <td>Regular customer</td>\n",
       "      <td>both</td>\n",
       "      <td>Region 2</td>\n",
       "      <td>Active customer</td>\n",
       "    </tr>\n",
       "    <tr>\n",
       "      <th>3</th>\n",
       "      <td>26711</td>\n",
       "      <td>Deborah</td>\n",
       "      <td>Esquivel</td>\n",
       "      <td>Female</td>\n",
       "      <td>Missouri</td>\n",
       "      <td>48</td>\n",
       "      <td>3</td>\n",
       "      <td>married</td>\n",
       "      <td>165665</td>\n",
       "      <td>443892</td>\n",
       "      <td>443892</td>\n",
       "      <td>423547</td>\n",
       "      <td>2</td>\n",
       "      <td>2</td>\n",
       "      <td>9</td>\n",
       "      <td>14.0</td>\n",
       "      <td>38928</td>\n",
       "      <td>1</td>\n",
       "      <td>0</td>\n",
       "      <td>38932</td>\n",
       "      <td>0% Greek Strained Yogurt</td>\n",
       "      <td>120</td>\n",
       "      <td>16</td>\n",
       "      <td>12.6</td>\n",
       "      <td>Mid range product</td>\n",
       "      <td>Regularly busy</td>\n",
       "      <td>Regularly busy</td>\n",
       "      <td>Most orders</td>\n",
       "      <td>8</td>\n",
       "      <td>New customer</td>\n",
       "      <td>7.988889</td>\n",
       "      <td>Low spender</td>\n",
       "      <td>19.0</td>\n",
       "      <td>Regular customer</td>\n",
       "      <td>both</td>\n",
       "      <td>Region 2</td>\n",
       "      <td>Active customer</td>\n",
       "    </tr>\n",
       "    <tr>\n",
       "      <th>4</th>\n",
       "      <td>26711</td>\n",
       "      <td>Deborah</td>\n",
       "      <td>Esquivel</td>\n",
       "      <td>Female</td>\n",
       "      <td>Missouri</td>\n",
       "      <td>48</td>\n",
       "      <td>3</td>\n",
       "      <td>married</td>\n",
       "      <td>165665</td>\n",
       "      <td>443893</td>\n",
       "      <td>443893</td>\n",
       "      <td>2524893</td>\n",
       "      <td>3</td>\n",
       "      <td>3</td>\n",
       "      <td>11</td>\n",
       "      <td>30.0</td>\n",
       "      <td>38928</td>\n",
       "      <td>1</td>\n",
       "      <td>1</td>\n",
       "      <td>38932</td>\n",
       "      <td>0% Greek Strained Yogurt</td>\n",
       "      <td>120</td>\n",
       "      <td>16</td>\n",
       "      <td>12.6</td>\n",
       "      <td>Mid range product</td>\n",
       "      <td>Regularly busy</td>\n",
       "      <td>Slowest days</td>\n",
       "      <td>Most orders</td>\n",
       "      <td>8</td>\n",
       "      <td>New customer</td>\n",
       "      <td>7.988889</td>\n",
       "      <td>Low spender</td>\n",
       "      <td>19.0</td>\n",
       "      <td>Regular customer</td>\n",
       "      <td>both</td>\n",
       "      <td>Region 2</td>\n",
       "      <td>Active customer</td>\n",
       "    </tr>\n",
       "  </tbody>\n",
       "</table>\n",
       "</div>"
      ],
      "text/plain": [
       "  user_id first_name last_name  Gender     STATE  Age  no_of_dependants  \\\n",
       "0   26711    Deborah  Esquivel  Female  Missouri   48                 3   \n",
       "1   26711    Deborah  Esquivel  Female  Missouri   48                 3   \n",
       "2   26711    Deborah  Esquivel  Female  Missouri   48                 3   \n",
       "3   26711    Deborah  Esquivel  Female  Missouri   48                 3   \n",
       "4   26711    Deborah  Esquivel  Female  Missouri   48                 3   \n",
       "\n",
       "  fam_status  income  Unnamed: 0.1  Unnamed: 0_x  order_id  order_number  \\\n",
       "0    married  165665        443895        443895   2543867             5   \n",
       "1    married  165665        443897        443897   1285508             7   \n",
       "2    married  165665        443898        443898   2578584             8   \n",
       "3    married  165665        443892        443892    423547             2   \n",
       "4    married  165665        443893        443893   2524893             3   \n",
       "\n",
       "   orders_day_of_week  time_of_order, hour  days_since_prior_order  \\\n",
       "0                   1                    9                    30.0   \n",
       "1                   5                   15                    11.0   \n",
       "2                   1                   15                    10.0   \n",
       "3                   2                    9                    14.0   \n",
       "4                   3                   11                    30.0   \n",
       "\n",
       "   product_id  add_to_cart_order  reordered  Unnamed: 0_y  \\\n",
       "0         196                  2          0           195   \n",
       "1         196                  1          1           195   \n",
       "2         196                  2          1           195   \n",
       "3       38928                  1          0         38932   \n",
       "4       38928                  1          1         38932   \n",
       "\n",
       "               product_name  aisle_id  department_id  prices  \\\n",
       "0                      Soda        77              7     9.0   \n",
       "1                      Soda        77              7     9.0   \n",
       "2                      Soda        77              7     9.0   \n",
       "3  0% Greek Strained Yogurt       120             16    12.6   \n",
       "4  0% Greek Strained Yogurt       120             16    12.6   \n",
       "\n",
       "     price_range_loc     busiest_day  busy_slow_days busiest_period_of_day  \\\n",
       "0  Mid range product  Regularly busy    Busiest days           Most orders   \n",
       "1  Mid range product  Regularly busy  Regularly busy           Most orders   \n",
       "2  Mid range product  Regularly busy    Busiest days           Most orders   \n",
       "3  Mid range product  Regularly busy  Regularly busy           Most orders   \n",
       "4  Mid range product  Regularly busy    Slowest days           Most orders   \n",
       "\n",
       "   max_order  loyalty_flag  mean_price spending_flag  median_days_since  \\\n",
       "0          8  New customer    7.988889   Low spender               19.0   \n",
       "1          8  New customer    7.988889   Low spender               19.0   \n",
       "2          8  New customer    7.988889   Low spender               19.0   \n",
       "3          8  New customer    7.988889   Low spender               19.0   \n",
       "4          8  New customer    7.988889   Low spender               19.0   \n",
       "\n",
       "     frequency_flag _merge    Region low_activity_flag  \n",
       "0  Regular customer   both  Region 2   Active customer  \n",
       "1  Regular customer   both  Region 2   Active customer  \n",
       "2  Regular customer   both  Region 2   Active customer  \n",
       "3  Regular customer   both  Region 2   Active customer  \n",
       "4  Regular customer   both  Region 2   Active customer  "
      ]
     },
     "execution_count": 21,
     "metadata": {},
     "output_type": "execute_result"
    }
   ],
   "source": [
    "ords_prods_cust.head()"
   ]
  },
  {
   "cell_type": "code",
   "execution_count": 22,
   "id": "22da20e7",
   "metadata": {},
   "outputs": [],
   "source": [
    "# Create a function for assigning customer profiles:\n",
    "\n",
    "def profile(row):\n",
    "    \n",
    "    if row['department_id'] == 5:\n",
    "        return 'Drinker'\n",
    "    elif row['department_id'] == 8:\n",
    "        return 'Pet Owner'\n",
    "    elif (row['Age'] < 30) and (row ['no_of_dependants'] > 0):\n",
    "        return 'Young Parent'\n",
    "    elif (row['Age'] >= 25) and (row['Age'] <65) and (row['no_of_dependants'] == 0) and (row['fam_status'] == 'single'):\n",
    "        return 'Single Adult No Kids' \n",
    "    elif (row['Age'] >= 65) and (row['no_of_dependants'] == 0):\n",
    "        return 'Retiree'\n",
    "    elif (row['no_of_dependants'] > 3):\n",
    "        return 'Big Family'\n",
    "    elif (row['no_of_dependants'] > 0) and (row['Age'] >= 30):\n",
    "        return 'Parent Over 30'\n",
    "    else: return 'Not defined'\n",
    "                                        \n",
    "ords_prods_cust['profile'] = ords_prods_cust.apply(profile, axis=1)"
   ]
  },
  {
   "cell_type": "markdown",
   "id": "263eecfd",
   "metadata": {},
   "source": [
    "# 7. Creating bar chart to show the distribution of profiles"
   ]
  },
  {
   "cell_type": "code",
   "execution_count": 23,
   "id": "5b9bc776",
   "metadata": {},
   "outputs": [
    {
     "data": {
      "image/png": "[encoded data removed]",
      "text/plain": [
       "<Figure size 640x480 with 1 Axes>"
      ]
     },
     "metadata": {},
     "output_type": "display_data"
    }
   ],
   "source": [
    "# Count unique user ids by profile and create a bar chart:\n",
    "\n",
    "unique_user_ids_by_profile = ords_prods_cust.groupby('profile').agg({'user_id': 'nunique'})\n",
    "bar_profile_user_id = unique_user_ids_by_profile.plot.bar()"
   ]
  },
  {
   "cell_type": "markdown",
   "id": "576e86b1",
   "metadata": {},
   "source": [
    "# 8. Aggregating the max, mean, and min variables on a customer-profile level for usage frequency and expenditure"
   ]
  },
  {
   "cell_type": "code",
   "execution_count": 61,
   "id": "a152762b",
   "metadata": {},
   "outputs": [
    {
     "data": {
      "text/html": [
       "<div>\n",
       "<style scoped>\n",
       "    .dataframe tbody tr th:only-of-type {\n",
       "        vertical-align: middle;\n",
       "    }\n",
       "\n",
       "    .dataframe tbody tr th {\n",
       "        vertical-align: top;\n",
       "    }\n",
       "\n",
       "    .dataframe thead tr th {\n",
       "        text-align: left;\n",
       "    }\n",
       "\n",
       "    .dataframe thead tr:last-of-type th {\n",
       "        text-align: right;\n",
       "    }\n",
       "</style>\n",
       "<table border=\"1\" class=\"dataframe\">\n",
       "  <thead>\n",
       "    <tr>\n",
       "      <th></th>\n",
       "      <th colspan=\"3\" halign=\"left\">max_order</th>\n",
       "    </tr>\n",
       "    <tr>\n",
       "      <th></th>\n",
       "      <th>max</th>\n",
       "      <th>mean</th>\n",
       "      <th>min</th>\n",
       "    </tr>\n",
       "    <tr>\n",
       "      <th>profile</th>\n",
       "      <th></th>\n",
       "      <th></th>\n",
       "      <th></th>\n",
       "    </tr>\n",
       "  </thead>\n",
       "  <tbody>\n",
       "    <tr>\n",
       "      <th>Drinker</th>\n",
       "      <td>99</td>\n",
       "      <td>31.642598</td>\n",
       "      <td>5</td>\n",
       "    </tr>\n",
       "    <tr>\n",
       "      <th>Not defined</th>\n",
       "      <td>99</td>\n",
       "      <td>34.887656</td>\n",
       "      <td>5</td>\n",
       "    </tr>\n",
       "    <tr>\n",
       "      <th>Parent Over 30</th>\n",
       "      <td>99</td>\n",
       "      <td>34.340529</td>\n",
       "      <td>5</td>\n",
       "    </tr>\n",
       "    <tr>\n",
       "      <th>Pet Owner</th>\n",
       "      <td>99</td>\n",
       "      <td>30.903740</td>\n",
       "      <td>5</td>\n",
       "    </tr>\n",
       "    <tr>\n",
       "      <th>Retiree</th>\n",
       "      <td>99</td>\n",
       "      <td>34.462602</td>\n",
       "      <td>5</td>\n",
       "    </tr>\n",
       "    <tr>\n",
       "      <th>Single Adult No Kids</th>\n",
       "      <td>99</td>\n",
       "      <td>34.734389</td>\n",
       "      <td>5</td>\n",
       "    </tr>\n",
       "    <tr>\n",
       "      <th>Young Parent</th>\n",
       "      <td>99</td>\n",
       "      <td>34.489817</td>\n",
       "      <td>5</td>\n",
       "    </tr>\n",
       "  </tbody>\n",
       "</table>\n",
       "</div>"
      ],
      "text/plain": [
       "                     max_order               \n",
       "                           max       mean min\n",
       "profile                                      \n",
       "Drinker                     99  31.642598   5\n",
       "Not defined                 99  34.887656   5\n",
       "Parent Over 30              99  34.340529   5\n",
       "Pet Owner                   99  30.903740   5\n",
       "Retiree                     99  34.462602   5\n",
       "Single Adult No Kids        99  34.734389   5\n",
       "Young Parent                99  34.489817   5"
      ]
     },
     "execution_count": 61,
     "metadata": {},
     "output_type": "execute_result"
    }
   ],
   "source": [
    "# Find average number of orders for each profile:\n",
    "\n",
    "max_mean_min_maxorder_by_profile = ords_prods_cust.groupby('profile').agg({'max_order': ['max', 'mean', 'min']})\n",
    "max_mean_min_maxorder_by_profile"
   ]
  },
  {
   "cell_type": "code",
   "execution_count": 25,
   "id": "ccb34216",
   "metadata": {},
   "outputs": [
    {
     "data": {
      "text/html": [
       "<div>\n",
       "<style scoped>\n",
       "    .dataframe tbody tr th:only-of-type {\n",
       "        vertical-align: middle;\n",
       "    }\n",
       "\n",
       "    .dataframe tbody tr th {\n",
       "        vertical-align: top;\n",
       "    }\n",
       "\n",
       "    .dataframe thead tr th {\n",
       "        text-align: left;\n",
       "    }\n",
       "\n",
       "    .dataframe thead tr:last-of-type th {\n",
       "        text-align: right;\n",
       "    }\n",
       "</style>\n",
       "<table border=\"1\" class=\"dataframe\">\n",
       "  <thead>\n",
       "    <tr>\n",
       "      <th></th>\n",
       "      <th colspan=\"3\" halign=\"left\">prices</th>\n",
       "    </tr>\n",
       "    <tr>\n",
       "      <th></th>\n",
       "      <th>max</th>\n",
       "      <th>mean</th>\n",
       "      <th>min</th>\n",
       "    </tr>\n",
       "    <tr>\n",
       "      <th>profile</th>\n",
       "      <th></th>\n",
       "      <th></th>\n",
       "      <th></th>\n",
       "    </tr>\n",
       "  </thead>\n",
       "  <tbody>\n",
       "    <tr>\n",
       "      <th>Drinker</th>\n",
       "      <td>15.0</td>\n",
       "      <td>8.150699</td>\n",
       "      <td>1.0</td>\n",
       "    </tr>\n",
       "    <tr>\n",
       "      <th>Not defined</th>\n",
       "      <td>99999.0</td>\n",
       "      <td>12.055893</td>\n",
       "      <td>1.0</td>\n",
       "    </tr>\n",
       "    <tr>\n",
       "      <th>Parent Over 30</th>\n",
       "      <td>99999.0</td>\n",
       "      <td>11.860509</td>\n",
       "      <td>1.0</td>\n",
       "    </tr>\n",
       "    <tr>\n",
       "      <th>Pet Owner</th>\n",
       "      <td>15.0</td>\n",
       "      <td>7.887489</td>\n",
       "      <td>1.0</td>\n",
       "    </tr>\n",
       "    <tr>\n",
       "      <th>Retiree</th>\n",
       "      <td>99999.0</td>\n",
       "      <td>12.041107</td>\n",
       "      <td>1.0</td>\n",
       "    </tr>\n",
       "    <tr>\n",
       "      <th>Single Adult No Kids</th>\n",
       "      <td>99999.0</td>\n",
       "      <td>12.206583</td>\n",
       "      <td>1.0</td>\n",
       "    </tr>\n",
       "    <tr>\n",
       "      <th>Young Parent</th>\n",
       "      <td>99999.0</td>\n",
       "      <td>12.104619</td>\n",
       "      <td>1.0</td>\n",
       "    </tr>\n",
       "  </tbody>\n",
       "</table>\n",
       "</div>"
      ],
      "text/plain": [
       "                       prices                \n",
       "                          max       mean  min\n",
       "profile                                      \n",
       "Drinker                  15.0   8.150699  1.0\n",
       "Not defined           99999.0  12.055893  1.0\n",
       "Parent Over 30        99999.0  11.860509  1.0\n",
       "Pet Owner                15.0   7.887489  1.0\n",
       "Retiree               99999.0  12.041107  1.0\n",
       "Single Adult No Kids  99999.0  12.206583  1.0\n",
       "Young Parent          99999.0  12.104619  1.0"
      ]
     },
     "execution_count": 25,
     "metadata": {},
     "output_type": "execute_result"
    }
   ],
   "source": [
    "# Find average expenditure amount for each profile:\n",
    "\n",
    "max_mean_min_prices_by_profile = ords_prods_cust.groupby('profile').agg({'prices': ['max', 'mean', 'min']})\n",
    "max_mean_min_prices_by_profile"
   ]
  },
  {
   "cell_type": "markdown",
   "id": "e4b0ee2e",
   "metadata": {},
   "source": [
    "# 9. Comparing customer profiles with regions"
   ]
  },
  {
   "cell_type": "code",
   "execution_count": 26,
   "id": "fd7c860f",
   "metadata": {
    "scrolled": false
   },
   "outputs": [
    {
     "data": {
      "image/png": "[encoded data removed]",
      "text/plain": [
       "<Figure size 640x480 with 1 Axes>"
      ]
     },
     "metadata": {},
     "output_type": "display_data"
    }
   ],
   "source": [
    "# Count unique user_ids by 'profile' and 'Region':\n",
    "\n",
    "unique_user_ids_by_profile_by_region = ords_prods_cust.groupby(['profile', 'Region'], as_index = False).agg({'user_id': 'nunique'})\n",
    "\n",
    "bar_profiles = unique_user_ids_by_profile_by_region.pivot(index='profile', columns='Region', values='user_id')\n",
    "\n",
    "bar_profile_region = bar_profiles.plot.barh(color = ['purple', 'green', 'blue', 'red'])"
   ]
  },
  {
   "cell_type": "markdown",
   "id": "1e608fa1",
   "metadata": {},
   "source": [
    "# 10. Comparing customer profiles with ordering habits"
   ]
  },
  {
   "cell_type": "code",
   "execution_count": 27,
   "id": "c2150a90",
   "metadata": {},
   "outputs": [
    {
     "data": {
      "text/html": [
       "<div>\n",
       "<style scoped>\n",
       "    .dataframe tbody tr th:only-of-type {\n",
       "        vertical-align: middle;\n",
       "    }\n",
       "\n",
       "    .dataframe tbody tr th {\n",
       "        vertical-align: top;\n",
       "    }\n",
       "\n",
       "    .dataframe thead th {\n",
       "        text-align: right;\n",
       "    }\n",
       "</style>\n",
       "<table border=\"1\" class=\"dataframe\">\n",
       "  <thead>\n",
       "    <tr style=\"text-align: right;\">\n",
       "      <th></th>\n",
       "      <th>profile</th>\n",
       "      <th>frequency_flag</th>\n",
       "      <th>user_id</th>\n",
       "    </tr>\n",
       "  </thead>\n",
       "  <tbody>\n",
       "    <tr>\n",
       "      <th>0</th>\n",
       "      <td>Drinker</td>\n",
       "      <td>Frequent customer</td>\n",
       "      <td>7379</td>\n",
       "    </tr>\n",
       "    <tr>\n",
       "      <th>1</th>\n",
       "      <td>Drinker</td>\n",
       "      <td>Non-frequent customer</td>\n",
       "      <td>1876</td>\n",
       "    </tr>\n",
       "    <tr>\n",
       "      <th>2</th>\n",
       "      <td>Drinker</td>\n",
       "      <td>Regular customer</td>\n",
       "      <td>3896</td>\n",
       "    </tr>\n",
       "    <tr>\n",
       "      <th>3</th>\n",
       "      <td>Not defined</td>\n",
       "      <td>Frequent customer</td>\n",
       "      <td>3911</td>\n",
       "    </tr>\n",
       "    <tr>\n",
       "      <th>4</th>\n",
       "      <td>Not defined</td>\n",
       "      <td>Non-frequent customer</td>\n",
       "      <td>1304</td>\n",
       "    </tr>\n",
       "    <tr>\n",
       "      <th>5</th>\n",
       "      <td>Not defined</td>\n",
       "      <td>Regular customer</td>\n",
       "      <td>2360</td>\n",
       "    </tr>\n",
       "    <tr>\n",
       "      <th>6</th>\n",
       "      <td>Parent Over 30</td>\n",
       "      <td>Frequent customer</td>\n",
       "      <td>52007</td>\n",
       "    </tr>\n",
       "    <tr>\n",
       "      <th>7</th>\n",
       "      <td>Parent Over 30</td>\n",
       "      <td>Non-frequent customer</td>\n",
       "      <td>17089</td>\n",
       "    </tr>\n",
       "    <tr>\n",
       "      <th>8</th>\n",
       "      <td>Parent Over 30</td>\n",
       "      <td>Regular customer</td>\n",
       "      <td>30119</td>\n",
       "    </tr>\n",
       "    <tr>\n",
       "      <th>9</th>\n",
       "      <td>Pet Owner</td>\n",
       "      <td>Frequent customer</td>\n",
       "      <td>7621</td>\n",
       "    </tr>\n",
       "    <tr>\n",
       "      <th>10</th>\n",
       "      <td>Pet Owner</td>\n",
       "      <td>Non-frequent customer</td>\n",
       "      <td>1634</td>\n",
       "    </tr>\n",
       "    <tr>\n",
       "      <th>11</th>\n",
       "      <td>Pet Owner</td>\n",
       "      <td>Regular customer</td>\n",
       "      <td>3920</td>\n",
       "    </tr>\n",
       "    <tr>\n",
       "      <th>12</th>\n",
       "      <td>Retiree</td>\n",
       "      <td>Frequent customer</td>\n",
       "      <td>5672</td>\n",
       "    </tr>\n",
       "    <tr>\n",
       "      <th>13</th>\n",
       "      <td>Retiree</td>\n",
       "      <td>Non-frequent customer</td>\n",
       "      <td>1787</td>\n",
       "    </tr>\n",
       "    <tr>\n",
       "      <th>14</th>\n",
       "      <td>Retiree</td>\n",
       "      <td>Regular customer</td>\n",
       "      <td>3242</td>\n",
       "    </tr>\n",
       "    <tr>\n",
       "      <th>15</th>\n",
       "      <td>Single Adult No Kids</td>\n",
       "      <td>Frequent customer</td>\n",
       "      <td>11679</td>\n",
       "    </tr>\n",
       "    <tr>\n",
       "      <th>16</th>\n",
       "      <td>Single Adult No Kids</td>\n",
       "      <td>Non-frequent customer</td>\n",
       "      <td>3861</td>\n",
       "    </tr>\n",
       "    <tr>\n",
       "      <th>17</th>\n",
       "      <td>Single Adult No Kids</td>\n",
       "      <td>Regular customer</td>\n",
       "      <td>6906</td>\n",
       "    </tr>\n",
       "    <tr>\n",
       "      <th>18</th>\n",
       "      <td>Young Parent</td>\n",
       "      <td>Frequent customer</td>\n",
       "      <td>11934</td>\n",
       "    </tr>\n",
       "    <tr>\n",
       "      <th>19</th>\n",
       "      <td>Young Parent</td>\n",
       "      <td>Non-frequent customer</td>\n",
       "      <td>3910</td>\n",
       "    </tr>\n",
       "    <tr>\n",
       "      <th>20</th>\n",
       "      <td>Young Parent</td>\n",
       "      <td>Regular customer</td>\n",
       "      <td>6826</td>\n",
       "    </tr>\n",
       "  </tbody>\n",
       "</table>\n",
       "</div>"
      ],
      "text/plain": [
       "                 profile         frequency_flag  user_id\n",
       "0                Drinker      Frequent customer     7379\n",
       "1                Drinker  Non-frequent customer     1876\n",
       "2                Drinker       Regular customer     3896\n",
       "3            Not defined      Frequent customer     3911\n",
       "4            Not defined  Non-frequent customer     1304\n",
       "5            Not defined       Regular customer     2360\n",
       "6         Parent Over 30      Frequent customer    52007\n",
       "7         Parent Over 30  Non-frequent customer    17089\n",
       "8         Parent Over 30       Regular customer    30119\n",
       "9              Pet Owner      Frequent customer     7621\n",
       "10             Pet Owner  Non-frequent customer     1634\n",
       "11             Pet Owner       Regular customer     3920\n",
       "12               Retiree      Frequent customer     5672\n",
       "13               Retiree  Non-frequent customer     1787\n",
       "14               Retiree       Regular customer     3242\n",
       "15  Single Adult No Kids      Frequent customer    11679\n",
       "16  Single Adult No Kids  Non-frequent customer     3861\n",
       "17  Single Adult No Kids       Regular customer     6906\n",
       "18          Young Parent      Frequent customer    11934\n",
       "19          Young Parent  Non-frequent customer     3910\n",
       "20          Young Parent       Regular customer     6826"
      ]
     },
     "execution_count": 27,
     "metadata": {},
     "output_type": "execute_result"
    }
   ],
   "source": [
    "# Bar chart on profiles vs. ordering habits (frequency of orders):\n",
    "\n",
    "profile_frequency = ords_prods_cust.groupby(['profile', 'frequency_flag'], as_index = False).agg({'user_id': 'nunique'})\n",
    "\n",
    "profile_frequency"
   ]
  },
  {
   "cell_type": "code",
   "execution_count": 28,
   "id": "bcc64b12",
   "metadata": {},
   "outputs": [
    {
     "data": {
      "text/html": [
       "<div>\n",
       "<style scoped>\n",
       "    .dataframe tbody tr th:only-of-type {\n",
       "        vertical-align: middle;\n",
       "    }\n",
       "\n",
       "    .dataframe tbody tr th {\n",
       "        vertical-align: top;\n",
       "    }\n",
       "\n",
       "    .dataframe thead th {\n",
       "        text-align: right;\n",
       "    }\n",
       "</style>\n",
       "<table border=\"1\" class=\"dataframe\">\n",
       "  <thead>\n",
       "    <tr style=\"text-align: right;\">\n",
       "      <th>frequency_flag</th>\n",
       "      <th>Frequent customer</th>\n",
       "      <th>Non-frequent customer</th>\n",
       "      <th>Regular customer</th>\n",
       "    </tr>\n",
       "    <tr>\n",
       "      <th>profile</th>\n",
       "      <th></th>\n",
       "      <th></th>\n",
       "      <th></th>\n",
       "    </tr>\n",
       "  </thead>\n",
       "  <tbody>\n",
       "    <tr>\n",
       "      <th>Drinker</th>\n",
       "      <td>7379</td>\n",
       "      <td>1876</td>\n",
       "      <td>3896</td>\n",
       "    </tr>\n",
       "    <tr>\n",
       "      <th>Not defined</th>\n",
       "      <td>3911</td>\n",
       "      <td>1304</td>\n",
       "      <td>2360</td>\n",
       "    </tr>\n",
       "    <tr>\n",
       "      <th>Parent Over 30</th>\n",
       "      <td>52007</td>\n",
       "      <td>17089</td>\n",
       "      <td>30119</td>\n",
       "    </tr>\n",
       "    <tr>\n",
       "      <th>Pet Owner</th>\n",
       "      <td>7621</td>\n",
       "      <td>1634</td>\n",
       "      <td>3920</td>\n",
       "    </tr>\n",
       "    <tr>\n",
       "      <th>Retiree</th>\n",
       "      <td>5672</td>\n",
       "      <td>1787</td>\n",
       "      <td>3242</td>\n",
       "    </tr>\n",
       "    <tr>\n",
       "      <th>Single Adult No Kids</th>\n",
       "      <td>11679</td>\n",
       "      <td>3861</td>\n",
       "      <td>6906</td>\n",
       "    </tr>\n",
       "    <tr>\n",
       "      <th>Young Parent</th>\n",
       "      <td>11934</td>\n",
       "      <td>3910</td>\n",
       "      <td>6826</td>\n",
       "    </tr>\n",
       "  </tbody>\n",
       "</table>\n",
       "</div>"
      ],
      "text/plain": [
       "frequency_flag        Frequent customer  Non-frequent customer  \\\n",
       "profile                                                          \n",
       "Drinker                            7379                   1876   \n",
       "Not defined                        3911                   1304   \n",
       "Parent Over 30                    52007                  17089   \n",
       "Pet Owner                          7621                   1634   \n",
       "Retiree                            5672                   1787   \n",
       "Single Adult No Kids              11679                   3861   \n",
       "Young Parent                      11934                   3910   \n",
       "\n",
       "frequency_flag        Regular customer  \n",
       "profile                                 \n",
       "Drinker                           3896  \n",
       "Not defined                       2360  \n",
       "Parent Over 30                   30119  \n",
       "Pet Owner                         3920  \n",
       "Retiree                           3242  \n",
       "Single Adult No Kids              6906  \n",
       "Young Parent                      6826  "
      ]
     },
     "execution_count": 28,
     "metadata": {},
     "output_type": "execute_result"
    }
   ],
   "source": [
    "profile_frequency = profile_frequency.pivot(index='profile', columns='frequency_flag', values='user_id')\n",
    "\n",
    "profile_frequency"
   ]
  },
  {
   "cell_type": "code",
   "execution_count": 29,
   "id": "ab524ad2",
   "metadata": {},
   "outputs": [
    {
     "data": {
      "image/png": "[encoded data removed]",
      "text/plain": [
       "<Figure size 640x480 with 1 Axes>"
      ]
     },
     "metadata": {},
     "output_type": "display_data"
    }
   ],
   "source": [
    "bar_profile_frequency = profile_frequency.plot.bar()"
   ]
  },
  {
   "cell_type": "markdown",
   "id": "81605146",
   "metadata": {},
   "source": [
    "# 11. Comparing customer profiles with spending habits"
   ]
  },
  {
   "cell_type": "code",
   "execution_count": 30,
   "id": "18522ec9",
   "metadata": {},
   "outputs": [
    {
     "data": {
      "text/html": [
       "<div>\n",
       "<style scoped>\n",
       "    .dataframe tbody tr th:only-of-type {\n",
       "        vertical-align: middle;\n",
       "    }\n",
       "\n",
       "    .dataframe tbody tr th {\n",
       "        vertical-align: top;\n",
       "    }\n",
       "\n",
       "    .dataframe thead th {\n",
       "        text-align: right;\n",
       "    }\n",
       "</style>\n",
       "<table border=\"1\" class=\"dataframe\">\n",
       "  <thead>\n",
       "    <tr style=\"text-align: right;\">\n",
       "      <th></th>\n",
       "      <th>profile</th>\n",
       "      <th>spending_flag</th>\n",
       "      <th>user_id</th>\n",
       "    </tr>\n",
       "  </thead>\n",
       "  <tbody>\n",
       "    <tr>\n",
       "      <th>0</th>\n",
       "      <td>Drinker</td>\n",
       "      <td>High spender</td>\n",
       "      <td>815</td>\n",
       "    </tr>\n",
       "    <tr>\n",
       "      <th>1</th>\n",
       "      <td>Drinker</td>\n",
       "      <td>Low spender</td>\n",
       "      <td>12336</td>\n",
       "    </tr>\n",
       "    <tr>\n",
       "      <th>2</th>\n",
       "      <td>Not defined</td>\n",
       "      <td>High spender</td>\n",
       "      <td>155</td>\n",
       "    </tr>\n",
       "    <tr>\n",
       "      <th>3</th>\n",
       "      <td>Not defined</td>\n",
       "      <td>Low spender</td>\n",
       "      <td>7420</td>\n",
       "    </tr>\n",
       "    <tr>\n",
       "      <th>4</th>\n",
       "      <td>Parent Over 30</td>\n",
       "      <td>High spender</td>\n",
       "      <td>2272</td>\n",
       "    </tr>\n",
       "    <tr>\n",
       "      <th>5</th>\n",
       "      <td>Parent Over 30</td>\n",
       "      <td>Low spender</td>\n",
       "      <td>96943</td>\n",
       "    </tr>\n",
       "    <tr>\n",
       "      <th>6</th>\n",
       "      <td>Pet Owner</td>\n",
       "      <td>High spender</td>\n",
       "      <td>409</td>\n",
       "    </tr>\n",
       "    <tr>\n",
       "      <th>7</th>\n",
       "      <td>Pet Owner</td>\n",
       "      <td>Low spender</td>\n",
       "      <td>12766</td>\n",
       "    </tr>\n",
       "    <tr>\n",
       "      <th>8</th>\n",
       "      <td>Retiree</td>\n",
       "      <td>High spender</td>\n",
       "      <td>248</td>\n",
       "    </tr>\n",
       "    <tr>\n",
       "      <th>9</th>\n",
       "      <td>Retiree</td>\n",
       "      <td>Low spender</td>\n",
       "      <td>10453</td>\n",
       "    </tr>\n",
       "    <tr>\n",
       "      <th>10</th>\n",
       "      <td>Single Adult No Kids</td>\n",
       "      <td>High spender</td>\n",
       "      <td>523</td>\n",
       "    </tr>\n",
       "    <tr>\n",
       "      <th>11</th>\n",
       "      <td>Single Adult No Kids</td>\n",
       "      <td>Low spender</td>\n",
       "      <td>21923</td>\n",
       "    </tr>\n",
       "    <tr>\n",
       "      <th>12</th>\n",
       "      <td>Young Parent</td>\n",
       "      <td>High spender</td>\n",
       "      <td>500</td>\n",
       "    </tr>\n",
       "    <tr>\n",
       "      <th>13</th>\n",
       "      <td>Young Parent</td>\n",
       "      <td>Low spender</td>\n",
       "      <td>22170</td>\n",
       "    </tr>\n",
       "  </tbody>\n",
       "</table>\n",
       "</div>"
      ],
      "text/plain": [
       "                 profile spending_flag  user_id\n",
       "0                Drinker  High spender      815\n",
       "1                Drinker   Low spender    12336\n",
       "2            Not defined  High spender      155\n",
       "3            Not defined   Low spender     7420\n",
       "4         Parent Over 30  High spender     2272\n",
       "5         Parent Over 30   Low spender    96943\n",
       "6              Pet Owner  High spender      409\n",
       "7              Pet Owner   Low spender    12766\n",
       "8                Retiree  High spender      248\n",
       "9                Retiree   Low spender    10453\n",
       "10  Single Adult No Kids  High spender      523\n",
       "11  Single Adult No Kids   Low spender    21923\n",
       "12          Young Parent  High spender      500\n",
       "13          Young Parent   Low spender    22170"
      ]
     },
     "execution_count": 30,
     "metadata": {},
     "output_type": "execute_result"
    }
   ],
   "source": [
    "# Bar chart on profiles vs. spending habits (spending_flag):\n",
    "\n",
    "profile_spending = ords_prods_cust.groupby(['profile', 'spending_flag'], as_index = False).agg({'user_id': 'nunique'})\n",
    "\n",
    "profile_spending"
   ]
  },
  {
   "cell_type": "code",
   "execution_count": 31,
   "id": "56af86e7",
   "metadata": {},
   "outputs": [
    {
     "data": {
      "text/html": [
       "<div>\n",
       "<style scoped>\n",
       "    .dataframe tbody tr th:only-of-type {\n",
       "        vertical-align: middle;\n",
       "    }\n",
       "\n",
       "    .dataframe tbody tr th {\n",
       "        vertical-align: top;\n",
       "    }\n",
       "\n",
       "    .dataframe thead th {\n",
       "        text-align: right;\n",
       "    }\n",
       "</style>\n",
       "<table border=\"1\" class=\"dataframe\">\n",
       "  <thead>\n",
       "    <tr style=\"text-align: right;\">\n",
       "      <th>spending_flag</th>\n",
       "      <th>High spender</th>\n",
       "      <th>Low spender</th>\n",
       "    </tr>\n",
       "    <tr>\n",
       "      <th>profile</th>\n",
       "      <th></th>\n",
       "      <th></th>\n",
       "    </tr>\n",
       "  </thead>\n",
       "  <tbody>\n",
       "    <tr>\n",
       "      <th>Drinker</th>\n",
       "      <td>815</td>\n",
       "      <td>12336</td>\n",
       "    </tr>\n",
       "    <tr>\n",
       "      <th>Not defined</th>\n",
       "      <td>155</td>\n",
       "      <td>7420</td>\n",
       "    </tr>\n",
       "    <tr>\n",
       "      <th>Parent Over 30</th>\n",
       "      <td>2272</td>\n",
       "      <td>96943</td>\n",
       "    </tr>\n",
       "    <tr>\n",
       "      <th>Pet Owner</th>\n",
       "      <td>409</td>\n",
       "      <td>12766</td>\n",
       "    </tr>\n",
       "    <tr>\n",
       "      <th>Retiree</th>\n",
       "      <td>248</td>\n",
       "      <td>10453</td>\n",
       "    </tr>\n",
       "    <tr>\n",
       "      <th>Single Adult No Kids</th>\n",
       "      <td>523</td>\n",
       "      <td>21923</td>\n",
       "    </tr>\n",
       "    <tr>\n",
       "      <th>Young Parent</th>\n",
       "      <td>500</td>\n",
       "      <td>22170</td>\n",
       "    </tr>\n",
       "  </tbody>\n",
       "</table>\n",
       "</div>"
      ],
      "text/plain": [
       "spending_flag         High spender  Low spender\n",
       "profile                                        \n",
       "Drinker                        815        12336\n",
       "Not defined                    155         7420\n",
       "Parent Over 30                2272        96943\n",
       "Pet Owner                      409        12766\n",
       "Retiree                        248        10453\n",
       "Single Adult No Kids           523        21923\n",
       "Young Parent                   500        22170"
      ]
     },
     "execution_count": 31,
     "metadata": {},
     "output_type": "execute_result"
    }
   ],
   "source": [
    "profile_spending = profile_spending.pivot(index='profile', columns='spending_flag', values='user_id')\n",
    "\n",
    "profile_spending"
   ]
  },
  {
   "cell_type": "code",
   "execution_count": 32,
   "id": "0666533a",
   "metadata": {},
   "outputs": [
    {
     "data": {
      "image/png": "[encoded data removed]",
      "text/plain": [
       "<Figure size 640x480 with 1 Axes>"
      ]
     },
     "metadata": {},
     "output_type": "display_data"
    }
   ],
   "source": [
    "bar_profile_spending = profile_spending.plot.bar()"
   ]
  },
  {
   "cell_type": "markdown",
   "id": "0f6719c0",
   "metadata": {},
   "source": [
    "#### Due to fabricated nature of considerable amount of the data there are no differencies among profiles."
   ]
  },
  {
   "cell_type": "markdown",
   "id": "bd99816e",
   "metadata": {},
   "source": [
    "# 12. Producing and exporting charts to illustrate results"
   ]
  },
  {
   "cell_type": "code",
   "execution_count": 33,
   "id": "f1312be3",
   "metadata": {},
   "outputs": [],
   "source": [
    "# Export BAR CHART of count of unique user ids by profile:\n",
    "\n",
    "bar_profile_user_id.figure.savefig(os.path.join(path, '04 Analysis','Visualizations', 'unique_user_ids_by_profile.png'))"
   ]
  },
  {
   "cell_type": "code",
   "execution_count": 62,
   "id": "6631e8a6",
   "metadata": {},
   "outputs": [],
   "source": [
    "# Exporting max_mean_min_maxorder_by_profile:\n",
    "\n",
    "max_mean_min_maxorder_by_profile.to_csv(os.path.join(path, '02 Data','Prepared Data','max_mean_min_maxorder_by_profile.csv'))"
   ]
  },
  {
   "cell_type": "code",
   "execution_count": 35,
   "id": "29b8882a",
   "metadata": {},
   "outputs": [],
   "source": [
    "# Exporting max_mean_min_prices_by_profile:\n",
    "\n",
    "max_mean_min_prices_by_profile.to_csv(os.path.join(path, '02 Data','Prepared Data','max_mean_min_prices_by_profile.csv'))"
   ]
  },
  {
   "cell_type": "code",
   "execution_count": 36,
   "id": "9a6758a8",
   "metadata": {},
   "outputs": [],
   "source": [
    "# Export BAR CHART of count of unique user ids by profile for each region:\n",
    "\n",
    "bar_profile_region.figure.savefig(os.path.join(path, '04 Analysis','Visualizations', 'bar_profile_region.png'))"
   ]
  },
  {
   "cell_type": "code",
   "execution_count": 37,
   "id": "51e9a8d4",
   "metadata": {},
   "outputs": [],
   "source": [
    "# Exporting profile_frequency:\n",
    "\n",
    "profile_frequency.to_csv(os.path.join(path, '02 Data','Prepared Data','profile_frequency.csv'))"
   ]
  },
  {
   "cell_type": "code",
   "execution_count": 38,
   "id": "b6031e14",
   "metadata": {},
   "outputs": [],
   "source": [
    "# Export BAR CHART of count of unique user ids by profile for frequency flags:\n",
    "\n",
    "bar_profile_frequency.figure.savefig(os.path.join(path, '04 Analysis','Visualizations', 'bar_profile_frequency.png'))"
   ]
  },
  {
   "cell_type": "code",
   "execution_count": 39,
   "id": "80d9551f",
   "metadata": {},
   "outputs": [],
   "source": [
    "# Exporting profile_spending:\n",
    "\n",
    "profile_spending.to_csv(os.path.join(path, '02 Data','Prepared Data','profile_spending.csv'))"
   ]
  },
  {
   "cell_type": "code",
   "execution_count": 40,
   "id": "decf28d1",
   "metadata": {},
   "outputs": [],
   "source": [
    "# Export BAR CHART of count of unique user ids by profile for spending flags:\n",
    "\n",
    "bar_profile_spending.figure.savefig(os.path.join(path, '04 Analysis','Visualizations', 'bar_profile_spending.png'))"
   ]
  },
  {
   "cell_type": "markdown",
   "id": "f1e0dfb4",
   "metadata": {},
   "source": [
    "# 13. Exporting the final data set 'ords_prods_cust_with_profile'"
   ]
  },
  {
   "cell_type": "code",
   "execution_count": 41,
   "id": "de19f805",
   "metadata": {},
   "outputs": [],
   "source": [
    "# Export 'ords_prods_cust' as 'ords_prods_cust_with_profile':\n",
    "\n",
    "ords_prods_cust.to_pickle(os.path.join(path, '02 Data','Prepared Data','ords_prods_cust_with_profile.pkl'))"
   ]
  },
  {
   "cell_type": "code",
   "execution_count": 42,
   "id": "00c73acd",
   "metadata": {},
   "outputs": [
    {
     "data": {
      "text/plain": [
       "(30964564, 38)"
      ]
     },
     "execution_count": 42,
     "metadata": {},
     "output_type": "execute_result"
    }
   ],
   "source": [
    "ords_prods_cust.shape"
   ]
  },
  {
   "cell_type": "code",
   "execution_count": null,
   "id": "a62ca1e9",
   "metadata": {},
   "outputs": [],
   "source": []
  },
  {
   "cell_type": "markdown",
   "id": "f3874abb",
   "metadata": {},
   "source": [
    "# 14. Additional charts for the final report"
   ]
  },
  {
   "cell_type": "code",
   "execution_count": 43,
   "id": "201e2b13",
   "metadata": {},
   "outputs": [
    {
     "data": {
      "text/plain": [
       "(1440295, 37)"
      ]
     },
     "execution_count": 43,
     "metadata": {},
     "output_type": "execute_result"
    }
   ],
   "source": [
    "low_act_cust_sample.shape"
   ]
  },
  {
   "cell_type": "code",
   "execution_count": 44,
   "id": "56a0d0d5",
   "metadata": {},
   "outputs": [
    {
     "data": {
      "text/plain": [
       "<AxesSubplot:>"
      ]
     },
     "execution_count": 44,
     "metadata": {},
     "output_type": "execute_result"
    },
    {
     "data": {
      "image/png": "[encoded data removed]",
      "text/plain": [
       "<Figure size 640x480 with 1 Axes>"
      ]
     },
     "metadata": {},
     "output_type": "display_data"
    }
   ],
   "source": [
    "ords_prods_cust['department_id'].value_counts().sort_index().plot.bar()"
   ]
  },
  {
   "cell_type": "code",
   "execution_count": 52,
   "id": "c571be15",
   "metadata": {},
   "outputs": [
    {
     "data": {
      "text/html": [
       "<div>\n",
       "<style scoped>\n",
       "    .dataframe tbody tr th:only-of-type {\n",
       "        vertical-align: middle;\n",
       "    }\n",
       "\n",
       "    .dataframe tbody tr th {\n",
       "        vertical-align: top;\n",
       "    }\n",
       "\n",
       "    .dataframe thead th {\n",
       "        text-align: right;\n",
       "    }\n",
       "</style>\n",
       "<table border=\"1\" class=\"dataframe\">\n",
       "  <thead>\n",
       "    <tr style=\"text-align: right;\">\n",
       "      <th></th>\n",
       "      <th>Region</th>\n",
       "      <th>frequency_flag</th>\n",
       "      <th>user_id</th>\n",
       "    </tr>\n",
       "  </thead>\n",
       "  <tbody>\n",
       "    <tr>\n",
       "      <th>0</th>\n",
       "      <td>Region 1</td>\n",
       "      <td>Frequent customer</td>\n",
       "      <td>15028</td>\n",
       "    </tr>\n",
       "    <tr>\n",
       "      <th>1</th>\n",
       "      <td>Region 1</td>\n",
       "      <td>Non-frequent customer</td>\n",
       "      <td>4826</td>\n",
       "    </tr>\n",
       "    <tr>\n",
       "      <th>2</th>\n",
       "      <td>Region 1</td>\n",
       "      <td>Regular customer</td>\n",
       "      <td>8727</td>\n",
       "    </tr>\n",
       "    <tr>\n",
       "      <th>3</th>\n",
       "      <td>Region 2</td>\n",
       "      <td>Frequent customer</td>\n",
       "      <td>19944</td>\n",
       "    </tr>\n",
       "    <tr>\n",
       "      <th>4</th>\n",
       "      <td>Region 2</td>\n",
       "      <td>Non-frequent customer</td>\n",
       "      <td>6695</td>\n",
       "    </tr>\n",
       "    <tr>\n",
       "      <th>5</th>\n",
       "      <td>Region 2</td>\n",
       "      <td>Regular customer</td>\n",
       "      <td>11737</td>\n",
       "    </tr>\n",
       "    <tr>\n",
       "      <th>6</th>\n",
       "      <td>Region 3</td>\n",
       "      <td>Frequent customer</td>\n",
       "      <td>28382</td>\n",
       "    </tr>\n",
       "    <tr>\n",
       "      <th>7</th>\n",
       "      <td>Region 3</td>\n",
       "      <td>Non-frequent customer</td>\n",
       "      <td>9381</td>\n",
       "    </tr>\n",
       "    <tr>\n",
       "      <th>8</th>\n",
       "      <td>Region 3</td>\n",
       "      <td>Regular customer</td>\n",
       "      <td>16430</td>\n",
       "    </tr>\n",
       "    <tr>\n",
       "      <th>9</th>\n",
       "      <td>Region 4</td>\n",
       "      <td>Frequent customer</td>\n",
       "      <td>21862</td>\n",
       "    </tr>\n",
       "    <tr>\n",
       "      <th>10</th>\n",
       "      <td>Region 4</td>\n",
       "      <td>Non-frequent customer</td>\n",
       "      <td>7053</td>\n",
       "    </tr>\n",
       "    <tr>\n",
       "      <th>11</th>\n",
       "      <td>Region 4</td>\n",
       "      <td>Regular customer</td>\n",
       "      <td>12566</td>\n",
       "    </tr>\n",
       "  </tbody>\n",
       "</table>\n",
       "</div>"
      ],
      "text/plain": [
       "      Region         frequency_flag  user_id\n",
       "0   Region 1      Frequent customer    15028\n",
       "1   Region 1  Non-frequent customer     4826\n",
       "2   Region 1       Regular customer     8727\n",
       "3   Region 2      Frequent customer    19944\n",
       "4   Region 2  Non-frequent customer     6695\n",
       "5   Region 2       Regular customer    11737\n",
       "6   Region 3      Frequent customer    28382\n",
       "7   Region 3  Non-frequent customer     9381\n",
       "8   Region 3       Regular customer    16430\n",
       "9   Region 4      Frequent customer    21862\n",
       "10  Region 4  Non-frequent customer     7053\n",
       "11  Region 4       Regular customer    12566"
      ]
     },
     "execution_count": 52,
     "metadata": {},
     "output_type": "execute_result"
    }
   ],
   "source": [
    "# Bar chart on profiles vs. ordering habits (frequency of orders):\n",
    "\n",
    "region_frequency = ords_prods_cust.groupby(['Region', 'frequency_flag'], as_index = False).agg({'user_id': 'nunique'})\n",
    "\n",
    "region_frequency"
   ]
  },
  {
   "cell_type": "code",
   "execution_count": 53,
   "id": "2766cbe0",
   "metadata": {},
   "outputs": [
    {
     "data": {
      "text/html": [
       "<div>\n",
       "<style scoped>\n",
       "    .dataframe tbody tr th:only-of-type {\n",
       "        vertical-align: middle;\n",
       "    }\n",
       "\n",
       "    .dataframe tbody tr th {\n",
       "        vertical-align: top;\n",
       "    }\n",
       "\n",
       "    .dataframe thead th {\n",
       "        text-align: right;\n",
       "    }\n",
       "</style>\n",
       "<table border=\"1\" class=\"dataframe\">\n",
       "  <thead>\n",
       "    <tr style=\"text-align: right;\">\n",
       "      <th>frequency_flag</th>\n",
       "      <th>Frequent customer</th>\n",
       "      <th>Non-frequent customer</th>\n",
       "      <th>Regular customer</th>\n",
       "    </tr>\n",
       "    <tr>\n",
       "      <th>Region</th>\n",
       "      <th></th>\n",
       "      <th></th>\n",
       "      <th></th>\n",
       "    </tr>\n",
       "  </thead>\n",
       "  <tbody>\n",
       "    <tr>\n",
       "      <th>Region 1</th>\n",
       "      <td>15028</td>\n",
       "      <td>4826</td>\n",
       "      <td>8727</td>\n",
       "    </tr>\n",
       "    <tr>\n",
       "      <th>Region 2</th>\n",
       "      <td>19944</td>\n",
       "      <td>6695</td>\n",
       "      <td>11737</td>\n",
       "    </tr>\n",
       "    <tr>\n",
       "      <th>Region 3</th>\n",
       "      <td>28382</td>\n",
       "      <td>9381</td>\n",
       "      <td>16430</td>\n",
       "    </tr>\n",
       "    <tr>\n",
       "      <th>Region 4</th>\n",
       "      <td>21862</td>\n",
       "      <td>7053</td>\n",
       "      <td>12566</td>\n",
       "    </tr>\n",
       "  </tbody>\n",
       "</table>\n",
       "</div>"
      ],
      "text/plain": [
       "frequency_flag  Frequent customer  Non-frequent customer  Regular customer\n",
       "Region                                                                    \n",
       "Region 1                    15028                   4826              8727\n",
       "Region 2                    19944                   6695             11737\n",
       "Region 3                    28382                   9381             16430\n",
       "Region 4                    21862                   7053             12566"
      ]
     },
     "execution_count": 53,
     "metadata": {},
     "output_type": "execute_result"
    }
   ],
   "source": [
    "region_frequency = region_frequency.pivot(index='Region', columns='frequency_flag', values='user_id')\n",
    "\n",
    "region_frequency"
   ]
  },
  {
   "cell_type": "code",
   "execution_count": 54,
   "id": "1104da3b",
   "metadata": {},
   "outputs": [
    {
     "data": {
      "image/png": "[encoded data removed]",
      "text/plain": [
       "<Figure size 640x480 with 1 Axes>"
      ]
     },
     "metadata": {},
     "output_type": "display_data"
    }
   ],
   "source": [
    "bar_region_frequency = region_frequency.plot.bar()"
   ]
  },
  {
   "cell_type": "code",
   "execution_count": 55,
   "id": "fafd4986",
   "metadata": {},
   "outputs": [
    {
     "data": {
      "text/html": [
       "<div>\n",
       "<style scoped>\n",
       "    .dataframe tbody tr th:only-of-type {\n",
       "        vertical-align: middle;\n",
       "    }\n",
       "\n",
       "    .dataframe tbody tr th {\n",
       "        vertical-align: top;\n",
       "    }\n",
       "\n",
       "    .dataframe thead th {\n",
       "        text-align: right;\n",
       "    }\n",
       "</style>\n",
       "<table border=\"1\" class=\"dataframe\">\n",
       "  <thead>\n",
       "    <tr style=\"text-align: right;\">\n",
       "      <th></th>\n",
       "      <th>loyalty_flag</th>\n",
       "      <th>frequency_flag</th>\n",
       "      <th>user_id</th>\n",
       "    </tr>\n",
       "  </thead>\n",
       "  <tbody>\n",
       "    <tr>\n",
       "      <th>0</th>\n",
       "      <td>Loyal customer</td>\n",
       "      <td>Frequent customer</td>\n",
       "      <td>17011</td>\n",
       "    </tr>\n",
       "    <tr>\n",
       "      <th>1</th>\n",
       "      <td>Loyal customer</td>\n",
       "      <td>Regular customer</td>\n",
       "      <td>6</td>\n",
       "    </tr>\n",
       "    <tr>\n",
       "      <th>2</th>\n",
       "      <td>New customer</td>\n",
       "      <td>Frequent customer</td>\n",
       "      <td>23985</td>\n",
       "    </tr>\n",
       "    <tr>\n",
       "      <th>3</th>\n",
       "      <td>New customer</td>\n",
       "      <td>Non-frequent customer</td>\n",
       "      <td>22770</td>\n",
       "    </tr>\n",
       "    <tr>\n",
       "      <th>4</th>\n",
       "      <td>New customer</td>\n",
       "      <td>Regular customer</td>\n",
       "      <td>21995</td>\n",
       "    </tr>\n",
       "    <tr>\n",
       "      <th>5</th>\n",
       "      <td>Regular customer</td>\n",
       "      <td>Frequent customer</td>\n",
       "      <td>44220</td>\n",
       "    </tr>\n",
       "    <tr>\n",
       "      <th>6</th>\n",
       "      <td>Regular customer</td>\n",
       "      <td>Non-frequent customer</td>\n",
       "      <td>5185</td>\n",
       "    </tr>\n",
       "    <tr>\n",
       "      <th>7</th>\n",
       "      <td>Regular customer</td>\n",
       "      <td>Regular customer</td>\n",
       "      <td>27459</td>\n",
       "    </tr>\n",
       "  </tbody>\n",
       "</table>\n",
       "</div>"
      ],
      "text/plain": [
       "       loyalty_flag         frequency_flag  user_id\n",
       "0    Loyal customer      Frequent customer    17011\n",
       "1    Loyal customer       Regular customer        6\n",
       "2      New customer      Frequent customer    23985\n",
       "3      New customer  Non-frequent customer    22770\n",
       "4      New customer       Regular customer    21995\n",
       "5  Regular customer      Frequent customer    44220\n",
       "6  Regular customer  Non-frequent customer     5185\n",
       "7  Regular customer       Regular customer    27459"
      ]
     },
     "execution_count": 55,
     "metadata": {},
     "output_type": "execute_result"
    }
   ],
   "source": [
    "# Bar chart on loyalty vs. ordering habits (frequency of orders):\n",
    "\n",
    "loyalty_frequency = ords_prods_cust.groupby(['loyalty_flag', 'frequency_flag'], as_index = False).agg({'user_id': 'nunique'})\n",
    "\n",
    "loyalty_frequency"
   ]
  },
  {
   "cell_type": "code",
   "execution_count": 57,
   "id": "4432ab48",
   "metadata": {},
   "outputs": [
    {
     "data": {
      "text/html": [
       "<div>\n",
       "<style scoped>\n",
       "    .dataframe tbody tr th:only-of-type {\n",
       "        vertical-align: middle;\n",
       "    }\n",
       "\n",
       "    .dataframe tbody tr th {\n",
       "        vertical-align: top;\n",
       "    }\n",
       "\n",
       "    .dataframe thead th {\n",
       "        text-align: right;\n",
       "    }\n",
       "</style>\n",
       "<table border=\"1\" class=\"dataframe\">\n",
       "  <thead>\n",
       "    <tr style=\"text-align: right;\">\n",
       "      <th>frequency_flag</th>\n",
       "      <th>Frequent customer</th>\n",
       "      <th>Non-frequent customer</th>\n",
       "      <th>Regular customer</th>\n",
       "    </tr>\n",
       "    <tr>\n",
       "      <th>loyalty_flag</th>\n",
       "      <th></th>\n",
       "      <th></th>\n",
       "      <th></th>\n",
       "    </tr>\n",
       "  </thead>\n",
       "  <tbody>\n",
       "    <tr>\n",
       "      <th>Loyal customer</th>\n",
       "      <td>17011.0</td>\n",
       "      <td>NaN</td>\n",
       "      <td>6.0</td>\n",
       "    </tr>\n",
       "    <tr>\n",
       "      <th>New customer</th>\n",
       "      <td>23985.0</td>\n",
       "      <td>22770.0</td>\n",
       "      <td>21995.0</td>\n",
       "    </tr>\n",
       "    <tr>\n",
       "      <th>Regular customer</th>\n",
       "      <td>44220.0</td>\n",
       "      <td>5185.0</td>\n",
       "      <td>27459.0</td>\n",
       "    </tr>\n",
       "  </tbody>\n",
       "</table>\n",
       "</div>"
      ],
      "text/plain": [
       "frequency_flag    Frequent customer  Non-frequent customer  Regular customer\n",
       "loyalty_flag                                                                \n",
       "Loyal customer              17011.0                    NaN               6.0\n",
       "New customer                23985.0                22770.0           21995.0\n",
       "Regular customer            44220.0                 5185.0           27459.0"
      ]
     },
     "execution_count": 57,
     "metadata": {},
     "output_type": "execute_result"
    }
   ],
   "source": [
    "loyalty_frequency = loyalty_frequency.pivot(index='loyalty_flag', columns='frequency_flag', values='user_id')\n",
    "\n",
    "loyalty_frequency"
   ]
  },
  {
   "cell_type": "code",
   "execution_count": 58,
   "id": "a18b0a90",
   "metadata": {},
   "outputs": [
    {
     "data": {
      "image/png": "[encoded data removed]",
      "text/plain": [
       "<Figure size 640x480 with 1 Axes>"
      ]
     },
     "metadata": {},
     "output_type": "display_data"
    }
   ],
   "source": [
    "bar_loyalty_frequency = loyalty_frequency.plot.bar()"
   ]
  },
  {
   "cell_type": "code",
   "execution_count": null,
   "id": "b121adcf",
   "metadata": {},
   "outputs": [],
   "source": []
  }
 ],
 "metadata": {
  "kernelspec": {
   "display_name": "Python 3 (ipykernel)",
   "language": "python",
   "name": "python3"
  },
  "language_info": {
   "codemirror_mode": {
    "name": "ipython",
    "version": 3
   },
   "file_extension": ".py",
   "mimetype": "text/x-python",
   "name": "python",
   "nbconvert_exporter": "python",
   "pygments_lexer": "ipython3",
   "version": "3.9.13"
  }
 },
 "nbformat": 4,
 "nbformat_minor": 5
}
