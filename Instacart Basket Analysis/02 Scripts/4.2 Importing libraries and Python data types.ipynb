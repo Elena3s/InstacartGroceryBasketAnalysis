{
 "cells": [
  {
   "cell_type": "markdown",
   "id": "97dd8d5d",
   "metadata": {},
   "source": [
    "# IMPORTING LIBRARIES AND PYTHON DATA TYPES"
   ]
  },
  {
   "cell_type": "markdown",
   "id": "a3d73c70",
   "metadata": {},
   "source": [
    "# 1. Import Libraries"
   ]
  },
  {
   "cell_type": "markdown",
   "id": "4b16a9eb",
   "metadata": {},
   "source": [
    "# 2. Code 3 different ways of reaching a result of 100 by adding or subtracting numeric variables."
   ]
  },
  {
   "cell_type": "markdown",
   "id": "82ed9469",
   "metadata": {},
   "source": [
    "# 3. Code 2 floating-point variables and dividing them by each other."
   ]
  },
  {
   "cell_type": "markdown",
   "id": "3edd70e7",
   "metadata": {},
   "source": [
    "# 4. Construct a short word made of separate strings."
   ]
  },
  {
   "cell_type": "markdown",
   "id": "dfe47948",
   "metadata": {},
   "source": [
    "# 5. Construct 2 short sentences made of separate strings."
   ]
  },
  {
   "cell_type": "markdown",
   "id": "5dfca745",
   "metadata": {},
   "source": [
    "# 6. Bonus. Make a string appear 100 times."
   ]
  },
  {
   "cell_type": "code",
   "execution_count": 1,
   "id": "61860f85",
   "metadata": {},
   "outputs": [],
   "source": [
    "# -------------------------------------------------------"
   ]
  },
  {
   "cell_type": "markdown",
   "id": "f935e201",
   "metadata": {},
   "source": [
    "# 1. Import Libraries"
   ]
  },
  {
   "cell_type": "code",
   "execution_count": 1,
   "id": "10cbe626",
   "metadata": {},
   "outputs": [],
   "source": [
    "# Importing the pandas, NumPy, and os libraries:\n",
    "\n",
    "import pandas as pd\n",
    "import numpy as np\n",
    "import os"
   ]
  },
  {
   "cell_type": "markdown",
   "id": "484f9148",
   "metadata": {},
   "source": [
    "# 2. Code 3 different ways of reaching a result of 100 by adding or subtracting numeric variables."
   ]
  },
  {
   "cell_type": "code",
   "execution_count": 74,
   "id": "392a495c",
   "metadata": {},
   "outputs": [],
   "source": [
    "x = 34"
   ]
  },
  {
   "cell_type": "code",
   "execution_count": 75,
   "id": "2cdb4271",
   "metadata": {},
   "outputs": [],
   "source": [
    "y = 66"
   ]
  },
  {
   "cell_type": "code",
   "execution_count": 76,
   "id": "493ee464",
   "metadata": {},
   "outputs": [],
   "source": [
    "z = 134"
   ]
  },
  {
   "cell_type": "code",
   "execution_count": 77,
   "id": "125279ff",
   "metadata": {},
   "outputs": [
    {
     "data": {
      "text/plain": [
       "100"
      ]
     },
     "execution_count": 77,
     "metadata": {},
     "output_type": "execute_result"
    }
   ],
   "source": [
    "x + y"
   ]
  },
  {
   "cell_type": "code",
   "execution_count": 78,
   "id": "ead1cecc",
   "metadata": {},
   "outputs": [
    {
     "data": {
      "text/plain": [
       "100"
      ]
     },
     "execution_count": 78,
     "metadata": {},
     "output_type": "execute_result"
    }
   ],
   "source": [
    "z - x"
   ]
  },
  {
   "cell_type": "code",
   "execution_count": 79,
   "id": "c95479dd",
   "metadata": {},
   "outputs": [
    {
     "data": {
      "text/plain": [
       "100"
      ]
     },
     "execution_count": 79,
     "metadata": {},
     "output_type": "execute_result"
    }
   ],
   "source": [
    "z + y - x - y"
   ]
  },
  {
   "cell_type": "markdown",
   "id": "0930760c",
   "metadata": {},
   "source": [
    "# 3. Code 2 floating-point variables and dividing them by each other."
   ]
  },
  {
   "cell_type": "code",
   "execution_count": 80,
   "id": "b0962b98",
   "metadata": {},
   "outputs": [],
   "source": [
    "a = 6.8"
   ]
  },
  {
   "cell_type": "code",
   "execution_count": 81,
   "id": "7dc77845",
   "metadata": {},
   "outputs": [],
   "source": [
    "b = 3.9"
   ]
  },
  {
   "cell_type": "code",
   "execution_count": 82,
   "id": "cc7aa089",
   "metadata": {},
   "outputs": [
    {
     "data": {
      "text/plain": [
       "1.7435897435897436"
      ]
     },
     "execution_count": 82,
     "metadata": {},
     "output_type": "execute_result"
    }
   ],
   "source": [
    "a / b"
   ]
  },
  {
   "cell_type": "markdown",
   "id": "1268622c",
   "metadata": {},
   "source": [
    "# 4. Construct a short word made of separate strings."
   ]
  },
  {
   "cell_type": "code",
   "execution_count": 83,
   "id": "8c67dc90",
   "metadata": {},
   "outputs": [],
   "source": [
    "c = 'Chr'"
   ]
  },
  {
   "cell_type": "code",
   "execution_count": 84,
   "id": "01fc9ce6",
   "metadata": {},
   "outputs": [],
   "source": [
    "d = 'ist'"
   ]
  },
  {
   "cell_type": "code",
   "execution_count": 85,
   "id": "77aa3264",
   "metadata": {},
   "outputs": [],
   "source": [
    "e = 'mas'"
   ]
  },
  {
   "cell_type": "code",
   "execution_count": 86,
   "id": "5860c6ba",
   "metadata": {},
   "outputs": [
    {
     "data": {
      "text/plain": [
       "'Christmas'"
      ]
     },
     "execution_count": 86,
     "metadata": {},
     "output_type": "execute_result"
    }
   ],
   "source": [
    "c + d + e"
   ]
  },
  {
   "cell_type": "markdown",
   "id": "137d708e",
   "metadata": {},
   "source": [
    "# 5. Construct 2 short sentences made of separate strings."
   ]
  },
  {
   "cell_type": "code",
   "execution_count": 8,
   "id": "0fddbce1",
   "metadata": {},
   "outputs": [],
   "source": [
    "f = '\"Success is not final, '"
   ]
  },
  {
   "cell_type": "code",
   "execution_count": 10,
   "id": "76cbcf86",
   "metadata": {},
   "outputs": [],
   "source": [
    "g = 'failure is not fatal: '"
   ]
  },
  {
   "cell_type": "code",
   "execution_count": 11,
   "id": "9e885407",
   "metadata": {},
   "outputs": [],
   "source": [
    "h = 'it is the courage to continue '"
   ]
  },
  {
   "cell_type": "code",
   "execution_count": 12,
   "id": "c5540609",
   "metadata": {},
   "outputs": [],
   "source": [
    "i = 'that counts.\" Winston Churchill'"
   ]
  },
  {
   "cell_type": "code",
   "execution_count": 13,
   "id": "c727ef9a",
   "metadata": {},
   "outputs": [
    {
     "data": {
      "text/plain": [
       "'\"Success is not final, failure is not fatal: it is the courage to continue that counts.\" Winston Churchill'"
      ]
     },
     "execution_count": 13,
     "metadata": {},
     "output_type": "execute_result"
    }
   ],
   "source": [
    "f + g + h + i"
   ]
  },
  {
   "cell_type": "markdown",
   "id": "f7169e2d",
   "metadata": {},
   "source": [
    "# 6. Bonus. Make a string appear 100 times."
   ]
  },
  {
   "cell_type": "code",
   "execution_count": 15,
   "id": "6679d1b2",
   "metadata": {},
   "outputs": [],
   "source": [
    "j = f + g + h + i"
   ]
  },
  {
   "cell_type": "code",
   "execution_count": 16,
   "id": "ebcc4f07",
   "metadata": {},
   "outputs": [
    {
     "data": {
      "text/plain": [
       "'\"Success is not final, failure is not fatal: it is the courage to continue that counts.\" Winston Churchill\"Success is not final, failure is not fatal: it is the courage to continue that counts.\" Winston Churchill\"Success is not final, failure is not fatal: it is the courage to continue that counts.\" Winston Churchill\"Success is not final, failure is not fatal: it is the courage to continue that counts.\" Winston Churchill\"Success is not final, failure is not fatal: it is the courage to continue that counts.\" Winston Churchill\"Success is not final, failure is not fatal: it is the courage to continue that counts.\" Winston Churchill\"Success is not final, failure is not fatal: it is the courage to continue that counts.\" Winston Churchill\"Success is not final, failure is not fatal: it is the courage to continue that counts.\" Winston Churchill\"Success is not final, failure is not fatal: it is the courage to continue that counts.\" Winston Churchill\"Success is not final, failure is not fatal: it is the courage to continue that counts.\" Winston Churchill\"Success is not final, failure is not fatal: it is the courage to continue that counts.\" Winston Churchill\"Success is not final, failure is not fatal: it is the courage to continue that counts.\" Winston Churchill\"Success is not final, failure is not fatal: it is the courage to continue that counts.\" Winston Churchill\"Success is not final, failure is not fatal: it is the courage to continue that counts.\" Winston Churchill\"Success is not final, failure is not fatal: it is the courage to continue that counts.\" Winston Churchill\"Success is not final, failure is not fatal: it is the courage to continue that counts.\" Winston Churchill\"Success is not final, failure is not fatal: it is the courage to continue that counts.\" Winston Churchill\"Success is not final, failure is not fatal: it is the courage to continue that counts.\" Winston Churchill\"Success is not final, failure is not fatal: it is the courage to continue that counts.\" Winston Churchill\"Success is not final, failure is not fatal: it is the courage to continue that counts.\" Winston Churchill\"Success is not final, failure is not fatal: it is the courage to continue that counts.\" Winston Churchill\"Success is not final, failure is not fatal: it is the courage to continue that counts.\" Winston Churchill\"Success is not final, failure is not fatal: it is the courage to continue that counts.\" Winston Churchill\"Success is not final, failure is not fatal: it is the courage to continue that counts.\" Winston Churchill\"Success is not final, failure is not fatal: it is the courage to continue that counts.\" Winston Churchill\"Success is not final, failure is not fatal: it is the courage to continue that counts.\" Winston Churchill\"Success is not final, failure is not fatal: it is the courage to continue that counts.\" Winston Churchill\"Success is not final, failure is not fatal: it is the courage to continue that counts.\" Winston Churchill\"Success is not final, failure is not fatal: it is the courage to continue that counts.\" Winston Churchill\"Success is not final, failure is not fatal: it is the courage to continue that counts.\" Winston Churchill\"Success is not final, failure is not fatal: it is the courage to continue that counts.\" Winston Churchill\"Success is not final, failure is not fatal: it is the courage to continue that counts.\" Winston Churchill\"Success is not final, failure is not fatal: it is the courage to continue that counts.\" Winston Churchill\"Success is not final, failure is not fatal: it is the courage to continue that counts.\" Winston Churchill\"Success is not final, failure is not fatal: it is the courage to continue that counts.\" Winston Churchill\"Success is not final, failure is not fatal: it is the courage to continue that counts.\" Winston Churchill\"Success is not final, failure is not fatal: it is the courage to continue that counts.\" Winston Churchill\"Success is not final, failure is not fatal: it is the courage to continue that counts.\" Winston Churchill\"Success is not final, failure is not fatal: it is the courage to continue that counts.\" Winston Churchill\"Success is not final, failure is not fatal: it is the courage to continue that counts.\" Winston Churchill\"Success is not final, failure is not fatal: it is the courage to continue that counts.\" Winston Churchill\"Success is not final, failure is not fatal: it is the courage to continue that counts.\" Winston Churchill\"Success is not final, failure is not fatal: it is the courage to continue that counts.\" Winston Churchill\"Success is not final, failure is not fatal: it is the courage to continue that counts.\" Winston Churchill\"Success is not final, failure is not fatal: it is the courage to continue that counts.\" Winston Churchill\"Success is not final, failure is not fatal: it is the courage to continue that counts.\" Winston Churchill\"Success is not final, failure is not fatal: it is the courage to continue that counts.\" Winston Churchill\"Success is not final, failure is not fatal: it is the courage to continue that counts.\" Winston Churchill\"Success is not final, failure is not fatal: it is the courage to continue that counts.\" Winston Churchill\"Success is not final, failure is not fatal: it is the courage to continue that counts.\" Winston Churchill\"Success is not final, failure is not fatal: it is the courage to continue that counts.\" Winston Churchill\"Success is not final, failure is not fatal: it is the courage to continue that counts.\" Winston Churchill\"Success is not final, failure is not fatal: it is the courage to continue that counts.\" Winston Churchill\"Success is not final, failure is not fatal: it is the courage to continue that counts.\" Winston Churchill\"Success is not final, failure is not fatal: it is the courage to continue that counts.\" Winston Churchill\"Success is not final, failure is not fatal: it is the courage to continue that counts.\" Winston Churchill\"Success is not final, failure is not fatal: it is the courage to continue that counts.\" Winston Churchill\"Success is not final, failure is not fatal: it is the courage to continue that counts.\" Winston Churchill\"Success is not final, failure is not fatal: it is the courage to continue that counts.\" Winston Churchill\"Success is not final, failure is not fatal: it is the courage to continue that counts.\" Winston Churchill\"Success is not final, failure is not fatal: it is the courage to continue that counts.\" Winston Churchill\"Success is not final, failure is not fatal: it is the courage to continue that counts.\" Winston Churchill\"Success is not final, failure is not fatal: it is the courage to continue that counts.\" Winston Churchill\"Success is not final, failure is not fatal: it is the courage to continue that counts.\" Winston Churchill\"Success is not final, failure is not fatal: it is the courage to continue that counts.\" Winston Churchill\"Success is not final, failure is not fatal: it is the courage to continue that counts.\" Winston Churchill\"Success is not final, failure is not fatal: it is the courage to continue that counts.\" Winston Churchill\"Success is not final, failure is not fatal: it is the courage to continue that counts.\" Winston Churchill\"Success is not final, failure is not fatal: it is the courage to continue that counts.\" Winston Churchill\"Success is not final, failure is not fatal: it is the courage to continue that counts.\" Winston Churchill\"Success is not final, failure is not fatal: it is the courage to continue that counts.\" Winston Churchill\"Success is not final, failure is not fatal: it is the courage to continue that counts.\" Winston Churchill\"Success is not final, failure is not fatal: it is the courage to continue that counts.\" Winston Churchill\"Success is not final, failure is not fatal: it is the courage to continue that counts.\" Winston Churchill\"Success is not final, failure is not fatal: it is the courage to continue that counts.\" Winston Churchill\"Success is not final, failure is not fatal: it is the courage to continue that counts.\" Winston Churchill\"Success is not final, failure is not fatal: it is the courage to continue that counts.\" Winston Churchill\"Success is not final, failure is not fatal: it is the courage to continue that counts.\" Winston Churchill\"Success is not final, failure is not fatal: it is the courage to continue that counts.\" Winston Churchill\"Success is not final, failure is not fatal: it is the courage to continue that counts.\" Winston Churchill\"Success is not final, failure is not fatal: it is the courage to continue that counts.\" Winston Churchill\"Success is not final, failure is not fatal: it is the courage to continue that counts.\" Winston Churchill\"Success is not final, failure is not fatal: it is the courage to continue that counts.\" Winston Churchill\"Success is not final, failure is not fatal: it is the courage to continue that counts.\" Winston Churchill\"Success is not final, failure is not fatal: it is the courage to continue that counts.\" Winston Churchill\"Success is not final, failure is not fatal: it is the courage to continue that counts.\" Winston Churchill\"Success is not final, failure is not fatal: it is the courage to continue that counts.\" Winston Churchill\"Success is not final, failure is not fatal: it is the courage to continue that counts.\" Winston Churchill\"Success is not final, failure is not fatal: it is the courage to continue that counts.\" Winston Churchill\"Success is not final, failure is not fatal: it is the courage to continue that counts.\" Winston Churchill\"Success is not final, failure is not fatal: it is the courage to continue that counts.\" Winston Churchill\"Success is not final, failure is not fatal: it is the courage to continue that counts.\" Winston Churchill\"Success is not final, failure is not fatal: it is the courage to continue that counts.\" Winston Churchill\"Success is not final, failure is not fatal: it is the courage to continue that counts.\" Winston Churchill\"Success is not final, failure is not fatal: it is the courage to continue that counts.\" Winston Churchill\"Success is not final, failure is not fatal: it is the courage to continue that counts.\" Winston Churchill\"Success is not final, failure is not fatal: it is the courage to continue that counts.\" Winston Churchill\"Success is not final, failure is not fatal: it is the courage to continue that counts.\" Winston Churchill\"Success is not final, failure is not fatal: it is the courage to continue that counts.\" Winston Churchill\"Success is not final, failure is not fatal: it is the courage to continue that counts.\" Winston Churchill'"
      ]
     },
     "execution_count": 16,
     "metadata": {},
     "output_type": "execute_result"
    }
   ],
   "source": [
    "j * 100"
   ]
  }
 ],
 "metadata": {
  "kernelspec": {
   "display_name": "Python 3 (ipykernel)",
   "language": "python",
   "name": "python3"
  },
  "language_info": {
   "codemirror_mode": {
    "name": "ipython",
    "version": 3
   },
   "file_extension": ".py",
   "mimetype": "text/x-python",
   "name": "python",
   "nbconvert_exporter": "python",
   "pygments_lexer": "ipython3",
   "version": "3.9.13"
  }
 },
 "nbformat": 4,
 "nbformat_minor": 5
}
