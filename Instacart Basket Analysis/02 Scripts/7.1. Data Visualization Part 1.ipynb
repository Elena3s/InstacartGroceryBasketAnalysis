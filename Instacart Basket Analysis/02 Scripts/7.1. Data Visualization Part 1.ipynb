{
 "cells": [
  {
   "cell_type": "markdown",
   "id": "469e27e4",
   "metadata": {},
   "source": [
    "# INTRO TO DATA VISUALIZATION WITH PYTHON (Task) - 1"
   ]
  },
  {
   "cell_type": "markdown",
   "id": "451068ec",
   "metadata": {},
   "source": [
    "# 1. Installing libraries"
   ]
  },
  {
   "cell_type": "markdown",
   "id": "a694e7c8",
   "metadata": {},
   "source": [
    "# 2. Importing 'customers' dataframe as 'cust':"
   ]
  },
  {
   "cell_type": "markdown",
   "id": "411925a4",
   "metadata": {},
   "source": [
    "# 3. Wrangling of 'cust'"
   ]
  },
  {
   "cell_type": "markdown",
   "id": "aa2b97c5",
   "metadata": {},
   "source": [
    "## 3.1. Removing 'date_joined' column"
   ]
  },
  {
   "cell_type": "markdown",
   "id": "b33b2db7",
   "metadata": {},
   "source": [
    "## 3.2. Renaming 'Surnam', 'First Name', 'n_dependants'"
   ]
  },
  {
   "cell_type": "markdown",
   "id": "a51011cd",
   "metadata": {},
   "source": [
    "# 4. Consitency checks of 'cust' (missing values, duplicates, mixed types)"
   ]
  },
  {
   "cell_type": "markdown",
   "id": "be712e5c",
   "metadata": {},
   "source": [
    "# 5. Combining 'customer' df with 'orders_products_merged_new_columns_and_flags.pkl' on 'user_id'"
   ]
  },
  {
   "cell_type": "markdown",
   "id": "17f8afe5",
   "metadata": {},
   "source": [
    "# 6. Exporting 'orders_products_cust_merged' as 'orders_products_customers_merged.pkl'"
   ]
  },
  {
   "cell_type": "code",
   "execution_count": 9,
   "id": "839c7150",
   "metadata": {},
   "outputs": [],
   "source": [
    "# ----------------------------------------------------"
   ]
  },
  {
   "cell_type": "markdown",
   "id": "dc4dae77",
   "metadata": {},
   "source": [
    "# 1. Installing libraries"
   ]
  },
  {
   "cell_type": "code",
   "execution_count": 1,
   "id": "9bedfaca",
   "metadata": {},
   "outputs": [],
   "source": [
    "# Item 3. Install libraries:\n",
    "\n",
    "import pandas as pd\n",
    "import numpy as np\n",
    "import os\n",
    "import matplotlib.pyplot as plt\n",
    "import seaborn as sns\n",
    "import scipy"
   ]
  },
  {
   "cell_type": "markdown",
   "id": "23a8e121",
   "metadata": {},
   "source": [
    "# 2. Importing 'customers' dataframe as 'cust':"
   ]
  },
  {
   "cell_type": "code",
   "execution_count": 3,
   "id": "309eedae",
   "metadata": {},
   "outputs": [],
   "source": [
    "    # Define the path\n",
    "    \n",
    "path = r'/Users/elena/Documents/Data Analytics Course/4. Python fundamentals for Data Analysts/Instacart Basket Analysis'"
   ]
  },
  {
   "cell_type": "code",
   "execution_count": 4,
   "id": "dec55bb4",
   "metadata": {},
   "outputs": [],
   "source": [
    "    # Import customers.csv:\n",
    "\n",
    "cust = pd.read_csv(os.path.join(path, '02 Data','Original Data','customers.csv'))"
   ]
  },
  {
   "cell_type": "code",
   "execution_count": 5,
   "id": "7bda64e9",
   "metadata": {},
   "outputs": [
    {
     "data": {
      "text/plain": [
       "(206209, 10)"
      ]
     },
     "execution_count": 5,
     "metadata": {},
     "output_type": "execute_result"
    }
   ],
   "source": [
    "cust.shape"
   ]
  },
  {
   "cell_type": "code",
   "execution_count": 5,
   "id": "986904a1",
   "metadata": {},
   "outputs": [
    {
     "data": {
      "text/html": [
       "<div>\n",
       "<style scoped>\n",
       "    .dataframe tbody tr th:only-of-type {\n",
       "        vertical-align: middle;\n",
       "    }\n",
       "\n",
       "    .dataframe tbody tr th {\n",
       "        vertical-align: top;\n",
       "    }\n",
       "\n",
       "    .dataframe thead th {\n",
       "        text-align: right;\n",
       "    }\n",
       "</style>\n",
       "<table border=\"1\" class=\"dataframe\">\n",
       "  <thead>\n",
       "    <tr style=\"text-align: right;\">\n",
       "      <th></th>\n",
       "      <th>user_id</th>\n",
       "      <th>First Name</th>\n",
       "      <th>Surnam</th>\n",
       "      <th>Gender</th>\n",
       "      <th>STATE</th>\n",
       "      <th>Age</th>\n",
       "      <th>date_joined</th>\n",
       "      <th>n_dependants</th>\n",
       "      <th>fam_status</th>\n",
       "      <th>income</th>\n",
       "    </tr>\n",
       "  </thead>\n",
       "  <tbody>\n",
       "    <tr>\n",
       "      <th>0</th>\n",
       "      <td>26711</td>\n",
       "      <td>Deborah</td>\n",
       "      <td>Esquivel</td>\n",
       "      <td>Female</td>\n",
       "      <td>Missouri</td>\n",
       "      <td>48</td>\n",
       "      <td>1/1/2017</td>\n",
       "      <td>3</td>\n",
       "      <td>married</td>\n",
       "      <td>165665</td>\n",
       "    </tr>\n",
       "    <tr>\n",
       "      <th>1</th>\n",
       "      <td>33890</td>\n",
       "      <td>Patricia</td>\n",
       "      <td>Hart</td>\n",
       "      <td>Female</td>\n",
       "      <td>New Mexico</td>\n",
       "      <td>36</td>\n",
       "      <td>1/1/2017</td>\n",
       "      <td>0</td>\n",
       "      <td>single</td>\n",
       "      <td>59285</td>\n",
       "    </tr>\n",
       "    <tr>\n",
       "      <th>2</th>\n",
       "      <td>65803</td>\n",
       "      <td>Kenneth</td>\n",
       "      <td>Farley</td>\n",
       "      <td>Male</td>\n",
       "      <td>Idaho</td>\n",
       "      <td>35</td>\n",
       "      <td>1/1/2017</td>\n",
       "      <td>2</td>\n",
       "      <td>married</td>\n",
       "      <td>99568</td>\n",
       "    </tr>\n",
       "    <tr>\n",
       "      <th>3</th>\n",
       "      <td>125935</td>\n",
       "      <td>Michelle</td>\n",
       "      <td>Hicks</td>\n",
       "      <td>Female</td>\n",
       "      <td>Iowa</td>\n",
       "      <td>40</td>\n",
       "      <td>1/1/2017</td>\n",
       "      <td>0</td>\n",
       "      <td>single</td>\n",
       "      <td>42049</td>\n",
       "    </tr>\n",
       "    <tr>\n",
       "      <th>4</th>\n",
       "      <td>130797</td>\n",
       "      <td>Ann</td>\n",
       "      <td>Gilmore</td>\n",
       "      <td>Female</td>\n",
       "      <td>Maryland</td>\n",
       "      <td>26</td>\n",
       "      <td>1/1/2017</td>\n",
       "      <td>1</td>\n",
       "      <td>married</td>\n",
       "      <td>40374</td>\n",
       "    </tr>\n",
       "  </tbody>\n",
       "</table>\n",
       "</div>"
      ],
      "text/plain": [
       "   user_id First Name    Surnam  Gender       STATE  Age date_joined  \\\n",
       "0    26711    Deborah  Esquivel  Female    Missouri   48    1/1/2017   \n",
       "1    33890   Patricia      Hart  Female  New Mexico   36    1/1/2017   \n",
       "2    65803    Kenneth    Farley    Male       Idaho   35    1/1/2017   \n",
       "3   125935   Michelle     Hicks  Female        Iowa   40    1/1/2017   \n",
       "4   130797        Ann   Gilmore  Female    Maryland   26    1/1/2017   \n",
       "\n",
       "   n_dependants fam_status  income  \n",
       "0             3    married  165665  \n",
       "1             0     single   59285  \n",
       "2             2    married   99568  \n",
       "3             0     single   42049  \n",
       "4             1    married   40374  "
      ]
     },
     "execution_count": 5,
     "metadata": {},
     "output_type": "execute_result"
    }
   ],
   "source": [
    "cust.head()"
   ]
  },
  {
   "cell_type": "markdown",
   "id": "cd2fa7d2",
   "metadata": {},
   "source": [
    "# 3. Wrangling of 'cust'"
   ]
  },
  {
   "cell_type": "markdown",
   "id": "9bb10c08",
   "metadata": {},
   "source": [
    "## 3.1. Removing 'date_joined' column"
   ]
  },
  {
   "cell_type": "code",
   "execution_count": 7,
   "id": "270d0268",
   "metadata": {},
   "outputs": [],
   "source": [
    "    # Remove column 'date_joined' from 'cust':\n",
    "\n",
    "cust = cust.drop(columns = ['date_joined'])"
   ]
  },
  {
   "cell_type": "code",
   "execution_count": 8,
   "id": "c1160bcc",
   "metadata": {},
   "outputs": [
    {
     "data": {
      "text/html": [
       "<div>\n",
       "<style scoped>\n",
       "    .dataframe tbody tr th:only-of-type {\n",
       "        vertical-align: middle;\n",
       "    }\n",
       "\n",
       "    .dataframe tbody tr th {\n",
       "        vertical-align: top;\n",
       "    }\n",
       "\n",
       "    .dataframe thead th {\n",
       "        text-align: right;\n",
       "    }\n",
       "</style>\n",
       "<table border=\"1\" class=\"dataframe\">\n",
       "  <thead>\n",
       "    <tr style=\"text-align: right;\">\n",
       "      <th></th>\n",
       "      <th>user_id</th>\n",
       "      <th>First Name</th>\n",
       "      <th>Surnam</th>\n",
       "      <th>Gender</th>\n",
       "      <th>STATE</th>\n",
       "      <th>Age</th>\n",
       "      <th>n_dependants</th>\n",
       "      <th>fam_status</th>\n",
       "      <th>income</th>\n",
       "    </tr>\n",
       "  </thead>\n",
       "  <tbody>\n",
       "    <tr>\n",
       "      <th>0</th>\n",
       "      <td>26711</td>\n",
       "      <td>Deborah</td>\n",
       "      <td>Esquivel</td>\n",
       "      <td>Female</td>\n",
       "      <td>Missouri</td>\n",
       "      <td>48</td>\n",
       "      <td>3</td>\n",
       "      <td>married</td>\n",
       "      <td>165665</td>\n",
       "    </tr>\n",
       "    <tr>\n",
       "      <th>1</th>\n",
       "      <td>33890</td>\n",
       "      <td>Patricia</td>\n",
       "      <td>Hart</td>\n",
       "      <td>Female</td>\n",
       "      <td>New Mexico</td>\n",
       "      <td>36</td>\n",
       "      <td>0</td>\n",
       "      <td>single</td>\n",
       "      <td>59285</td>\n",
       "    </tr>\n",
       "    <tr>\n",
       "      <th>2</th>\n",
       "      <td>65803</td>\n",
       "      <td>Kenneth</td>\n",
       "      <td>Farley</td>\n",
       "      <td>Male</td>\n",
       "      <td>Idaho</td>\n",
       "      <td>35</td>\n",
       "      <td>2</td>\n",
       "      <td>married</td>\n",
       "      <td>99568</td>\n",
       "    </tr>\n",
       "    <tr>\n",
       "      <th>3</th>\n",
       "      <td>125935</td>\n",
       "      <td>Michelle</td>\n",
       "      <td>Hicks</td>\n",
       "      <td>Female</td>\n",
       "      <td>Iowa</td>\n",
       "      <td>40</td>\n",
       "      <td>0</td>\n",
       "      <td>single</td>\n",
       "      <td>42049</td>\n",
       "    </tr>\n",
       "    <tr>\n",
       "      <th>4</th>\n",
       "      <td>130797</td>\n",
       "      <td>Ann</td>\n",
       "      <td>Gilmore</td>\n",
       "      <td>Female</td>\n",
       "      <td>Maryland</td>\n",
       "      <td>26</td>\n",
       "      <td>1</td>\n",
       "      <td>married</td>\n",
       "      <td>40374</td>\n",
       "    </tr>\n",
       "  </tbody>\n",
       "</table>\n",
       "</div>"
      ],
      "text/plain": [
       "   user_id First Name    Surnam  Gender       STATE  Age  n_dependants  \\\n",
       "0    26711    Deborah  Esquivel  Female    Missouri   48             3   \n",
       "1    33890   Patricia      Hart  Female  New Mexico   36             0   \n",
       "2    65803    Kenneth    Farley    Male       Idaho   35             2   \n",
       "3   125935   Michelle     Hicks  Female        Iowa   40             0   \n",
       "4   130797        Ann   Gilmore  Female    Maryland   26             1   \n",
       "\n",
       "  fam_status  income  \n",
       "0    married  165665  \n",
       "1     single   59285  \n",
       "2    married   99568  \n",
       "3     single   42049  \n",
       "4    married   40374  "
      ]
     },
     "execution_count": 8,
     "metadata": {},
     "output_type": "execute_result"
    }
   ],
   "source": [
    "cust.head()"
   ]
  },
  {
   "cell_type": "markdown",
   "id": "40acb78f",
   "metadata": {},
   "source": [
    "## 3.2. Renaming 'Surnam', 'First Name', 'n_dependants'"
   ]
  },
  {
   "cell_type": "code",
   "execution_count": 9,
   "id": "01d963b7",
   "metadata": {},
   "outputs": [],
   "source": [
    "    # Rename 'Surnam' column into 'last_name':\n",
    "    \n",
    "cust.rename(columns = {'Surnam' : 'last_name'}, inplace = True)"
   ]
  },
  {
   "cell_type": "code",
   "execution_count": 10,
   "id": "5ef5a2ce",
   "metadata": {},
   "outputs": [],
   "source": [
    "    # Rename 'First Name' column into 'first_name':\n",
    "    \n",
    "cust.rename(columns = {'First Name' : 'first_name'}, inplace = True)"
   ]
  },
  {
   "cell_type": "code",
   "execution_count": 11,
   "id": "d73f6d46",
   "metadata": {},
   "outputs": [],
   "source": [
    "    # Rename 'n_dependants' column into 'no_of_dependants':\n",
    "    \n",
    "cust.rename(columns = {'n_dependants' : 'no_of_dependants'}, inplace = True)"
   ]
  },
  {
   "cell_type": "code",
   "execution_count": 12,
   "id": "fa012932",
   "metadata": {},
   "outputs": [
    {
     "data": {
      "text/html": [
       "<div>\n",
       "<style scoped>\n",
       "    .dataframe tbody tr th:only-of-type {\n",
       "        vertical-align: middle;\n",
       "    }\n",
       "\n",
       "    .dataframe tbody tr th {\n",
       "        vertical-align: top;\n",
       "    }\n",
       "\n",
       "    .dataframe thead th {\n",
       "        text-align: right;\n",
       "    }\n",
       "</style>\n",
       "<table border=\"1\" class=\"dataframe\">\n",
       "  <thead>\n",
       "    <tr style=\"text-align: right;\">\n",
       "      <th></th>\n",
       "      <th>user_id</th>\n",
       "      <th>first_name</th>\n",
       "      <th>last_name</th>\n",
       "      <th>Gender</th>\n",
       "      <th>STATE</th>\n",
       "      <th>Age</th>\n",
       "      <th>no_of_dependants</th>\n",
       "      <th>fam_status</th>\n",
       "      <th>income</th>\n",
       "    </tr>\n",
       "  </thead>\n",
       "  <tbody>\n",
       "    <tr>\n",
       "      <th>0</th>\n",
       "      <td>26711</td>\n",
       "      <td>Deborah</td>\n",
       "      <td>Esquivel</td>\n",
       "      <td>Female</td>\n",
       "      <td>Missouri</td>\n",
       "      <td>48</td>\n",
       "      <td>3</td>\n",
       "      <td>married</td>\n",
       "      <td>165665</td>\n",
       "    </tr>\n",
       "    <tr>\n",
       "      <th>1</th>\n",
       "      <td>33890</td>\n",
       "      <td>Patricia</td>\n",
       "      <td>Hart</td>\n",
       "      <td>Female</td>\n",
       "      <td>New Mexico</td>\n",
       "      <td>36</td>\n",
       "      <td>0</td>\n",
       "      <td>single</td>\n",
       "      <td>59285</td>\n",
       "    </tr>\n",
       "    <tr>\n",
       "      <th>2</th>\n",
       "      <td>65803</td>\n",
       "      <td>Kenneth</td>\n",
       "      <td>Farley</td>\n",
       "      <td>Male</td>\n",
       "      <td>Idaho</td>\n",
       "      <td>35</td>\n",
       "      <td>2</td>\n",
       "      <td>married</td>\n",
       "      <td>99568</td>\n",
       "    </tr>\n",
       "    <tr>\n",
       "      <th>3</th>\n",
       "      <td>125935</td>\n",
       "      <td>Michelle</td>\n",
       "      <td>Hicks</td>\n",
       "      <td>Female</td>\n",
       "      <td>Iowa</td>\n",
       "      <td>40</td>\n",
       "      <td>0</td>\n",
       "      <td>single</td>\n",
       "      <td>42049</td>\n",
       "    </tr>\n",
       "    <tr>\n",
       "      <th>4</th>\n",
       "      <td>130797</td>\n",
       "      <td>Ann</td>\n",
       "      <td>Gilmore</td>\n",
       "      <td>Female</td>\n",
       "      <td>Maryland</td>\n",
       "      <td>26</td>\n",
       "      <td>1</td>\n",
       "      <td>married</td>\n",
       "      <td>40374</td>\n",
       "    </tr>\n",
       "  </tbody>\n",
       "</table>\n",
       "</div>"
      ],
      "text/plain": [
       "   user_id first_name last_name  Gender       STATE  Age  no_of_dependants  \\\n",
       "0    26711    Deborah  Esquivel  Female    Missouri   48                 3   \n",
       "1    33890   Patricia      Hart  Female  New Mexico   36                 0   \n",
       "2    65803    Kenneth    Farley    Male       Idaho   35                 2   \n",
       "3   125935   Michelle     Hicks  Female        Iowa   40                 0   \n",
       "4   130797        Ann   Gilmore  Female    Maryland   26                 1   \n",
       "\n",
       "  fam_status  income  \n",
       "0    married  165665  \n",
       "1     single   59285  \n",
       "2    married   99568  \n",
       "3     single   42049  \n",
       "4    married   40374  "
      ]
     },
     "execution_count": 12,
     "metadata": {},
     "output_type": "execute_result"
    }
   ],
   "source": [
    "cust.head()"
   ]
  },
  {
   "cell_type": "markdown",
   "id": "a0a9ec30",
   "metadata": {},
   "source": [
    "# 4. Consitency checks of 'cust' (missing values, duplicates, mixed types)"
   ]
  },
  {
   "cell_type": "code",
   "execution_count": 13,
   "id": "67a2dccf",
   "metadata": {},
   "outputs": [
    {
     "data": {
      "text/plain": [
       "user_id                 0\n",
       "first_name          11259\n",
       "last_name               0\n",
       "Gender                  0\n",
       "STATE                   0\n",
       "Age                     0\n",
       "no_of_dependants        0\n",
       "fam_status              0\n",
       "income                  0\n",
       "dtype: int64"
      ]
     },
     "execution_count": 13,
     "metadata": {},
     "output_type": "execute_result"
    }
   ],
   "source": [
    "# Check for missing values in 'cust':\n",
    "    \n",
    "cust.isnull().sum()"
   ]
  },
  {
   "cell_type": "code",
   "execution_count": 14,
   "id": "7ea45505",
   "metadata": {},
   "outputs": [
    {
     "data": {
      "text/html": [
       "<div>\n",
       "<style scoped>\n",
       "    .dataframe tbody tr th:only-of-type {\n",
       "        vertical-align: middle;\n",
       "    }\n",
       "\n",
       "    .dataframe tbody tr th {\n",
       "        vertical-align: top;\n",
       "    }\n",
       "\n",
       "    .dataframe thead th {\n",
       "        text-align: right;\n",
       "    }\n",
       "</style>\n",
       "<table border=\"1\" class=\"dataframe\">\n",
       "  <thead>\n",
       "    <tr style=\"text-align: right;\">\n",
       "      <th></th>\n",
       "      <th>user_id</th>\n",
       "      <th>first_name</th>\n",
       "      <th>last_name</th>\n",
       "      <th>Gender</th>\n",
       "      <th>STATE</th>\n",
       "      <th>Age</th>\n",
       "      <th>no_of_dependants</th>\n",
       "      <th>fam_status</th>\n",
       "      <th>income</th>\n",
       "    </tr>\n",
       "  </thead>\n",
       "  <tbody>\n",
       "  </tbody>\n",
       "</table>\n",
       "</div>"
      ],
      "text/plain": [
       "Empty DataFrame\n",
       "Columns: [user_id, first_name, last_name, Gender, STATE, Age, no_of_dependants, fam_status, income]\n",
       "Index: []"
      ]
     },
     "execution_count": 14,
     "metadata": {},
     "output_type": "execute_result"
    }
   ],
   "source": [
    "# Check for duplicates in 'cust':\n",
    "    \n",
    "cust_dups = cust[cust.duplicated()]\n",
    "cust_dups"
   ]
  },
  {
   "cell_type": "markdown",
   "id": "384983ba",
   "metadata": {},
   "source": [
    "##### - No duplicates founds in 'cust'."
   ]
  },
  {
   "cell_type": "code",
   "execution_count": 15,
   "id": "4e162bfa",
   "metadata": {},
   "outputs": [
    {
     "name": "stdout",
     "output_type": "stream",
     "text": [
      "first_name\n"
     ]
    }
   ],
   "source": [
    "# Check for mixed types in'cust':\n",
    "    \n",
    "for col in cust.columns.tolist():\n",
    "  weird = (cust[[col]].applymap(type) != cust[[col]].iloc[0].apply(type)).any(axis = 1)\n",
    "  if len (cust[weird]) > 0:\n",
    "        print (col)"
   ]
  },
  {
   "cell_type": "code",
   "execution_count": 16,
   "id": "d30db9dc",
   "metadata": {},
   "outputs": [
    {
     "data": {
      "text/plain": [
       "str"
      ]
     },
     "execution_count": 16,
     "metadata": {},
     "output_type": "execute_result"
    }
   ],
   "source": [
    "type('first_name')"
   ]
  },
  {
   "cell_type": "code",
   "execution_count": 17,
   "id": "39b94a5c",
   "metadata": {},
   "outputs": [],
   "source": [
    "    # Replace mixed type in 'first_name' column in 'cust' df with string type:\n",
    "    \n",
    "cust['first_name'] = cust['first_name'].astype('str')"
   ]
  },
  {
   "cell_type": "markdown",
   "id": "6db60c50",
   "metadata": {},
   "source": [
    "# 5. Combining 'customer' df with 'orders_products_merged_new_columns_and_flags.pkl' on 'user_id'"
   ]
  },
  {
   "cell_type": "code",
   "execution_count": 19,
   "id": "2812a60c",
   "metadata": {},
   "outputs": [],
   "source": [
    "# Convert 'user_id' data type in 'cust' to string:\n",
    "    \n",
    "cust['user_id'] = cust['user_id'].astype('str')"
   ]
  },
  {
   "cell_type": "code",
   "execution_count": 20,
   "id": "141fb20f",
   "metadata": {},
   "outputs": [
    {
     "data": {
      "text/plain": [
       "dtype('O')"
      ]
     },
     "execution_count": 20,
     "metadata": {},
     "output_type": "execute_result"
    }
   ],
   "source": [
    "cust['user_id'].dtype"
   ]
  },
  {
   "cell_type": "code",
   "execution_count": 6,
   "id": "e2e9720c",
   "metadata": {},
   "outputs": [
    {
     "data": {
      "text/plain": [
       "(206209, 10)"
      ]
     },
     "execution_count": 6,
     "metadata": {},
     "output_type": "execute_result"
    }
   ],
   "source": [
    "cust.shape"
   ]
  },
  {
   "cell_type": "code",
   "execution_count": 21,
   "id": "db43c36f",
   "metadata": {},
   "outputs": [],
   "source": [
    "# Import 'orders_products_merged_new_columns_and_flags':\n",
    "    \n",
    "orders_products_merged = pd.read_pickle(os.path.join(path, '02 Data','Prepared Data','orders_products_merged_new_columns_and_flags.pkl'))"
   ]
  },
  {
   "cell_type": "code",
   "execution_count": 22,
   "id": "e13a9908",
   "metadata": {},
   "outputs": [
    {
     "data": {
      "text/plain": [
       "(32404859, 27)"
      ]
     },
     "execution_count": 22,
     "metadata": {},
     "output_type": "execute_result"
    }
   ],
   "source": [
    "# Check the shape of 'orders_products_merged':\n",
    "    \n",
    "orders_products_merged.shape"
   ]
  },
  {
   "cell_type": "code",
   "execution_count": 23,
   "id": "599b6136",
   "metadata": {},
   "outputs": [
    {
     "data": {
      "text/plain": [
       "dtype('int64')"
      ]
     },
     "execution_count": 23,
     "metadata": {},
     "output_type": "execute_result"
    }
   ],
   "source": [
    "# Check the data type of 'user_id' in 'orders_products_merged':\n",
    "    \n",
    "orders_products_merged['user_id'].dtype"
   ]
  },
  {
   "cell_type": "code",
   "execution_count": 24,
   "id": "ac4e296c",
   "metadata": {},
   "outputs": [],
   "source": [
    "# Convert 'user_id' data type in 'orders_products_merged' to string:\n",
    "    \n",
    "orders_products_merged['user_id'] = orders_products_merged['user_id'].astype('str')"
   ]
  },
  {
   "cell_type": "code",
   "execution_count": 25,
   "id": "e8a3396d",
   "metadata": {},
   "outputs": [],
   "source": [
    "# Drop '_merge' in 'orders_products_merged':\n",
    "    \n",
    "orders_products_merged = orders_products_merged.drop(columns = ['_merge'])"
   ]
  },
  {
   "cell_type": "code",
   "execution_count": 26,
   "id": "d5713052",
   "metadata": {},
   "outputs": [],
   "source": [
    "# Merge 'cust' with 'orders_products_merged_new_columns_and_flags':\n",
    "\n",
    "orders_products_cust_merged = cust.merge(orders_products_merged, on = 'user_id', indicator = True)"
   ]
  },
  {
   "cell_type": "code",
   "execution_count": 27,
   "id": "3562d52f",
   "metadata": {},
   "outputs": [
    {
     "data": {
      "text/html": [
       "<div>\n",
       "<style scoped>\n",
       "    .dataframe tbody tr th:only-of-type {\n",
       "        vertical-align: middle;\n",
       "    }\n",
       "\n",
       "    .dataframe tbody tr th {\n",
       "        vertical-align: top;\n",
       "    }\n",
       "\n",
       "    .dataframe thead th {\n",
       "        text-align: right;\n",
       "    }\n",
       "</style>\n",
       "<table border=\"1\" class=\"dataframe\">\n",
       "  <thead>\n",
       "    <tr style=\"text-align: right;\">\n",
       "      <th></th>\n",
       "      <th>user_id</th>\n",
       "      <th>first_name</th>\n",
       "      <th>last_name</th>\n",
       "      <th>Gender</th>\n",
       "      <th>STATE</th>\n",
       "      <th>Age</th>\n",
       "      <th>no_of_dependants</th>\n",
       "      <th>fam_status</th>\n",
       "      <th>income</th>\n",
       "      <th>Unnamed: 0.1</th>\n",
       "      <th>...</th>\n",
       "      <th>busiest_day</th>\n",
       "      <th>busy_slow_days</th>\n",
       "      <th>busiest_period_of_day</th>\n",
       "      <th>max_order</th>\n",
       "      <th>loyalty_flag</th>\n",
       "      <th>mean_price</th>\n",
       "      <th>spending_flag</th>\n",
       "      <th>median_days_since</th>\n",
       "      <th>frequency_flag</th>\n",
       "      <th>_merge</th>\n",
       "    </tr>\n",
       "  </thead>\n",
       "  <tbody>\n",
       "    <tr>\n",
       "      <th>0</th>\n",
       "      <td>26711</td>\n",
       "      <td>Deborah</td>\n",
       "      <td>Esquivel</td>\n",
       "      <td>Female</td>\n",
       "      <td>Missouri</td>\n",
       "      <td>48</td>\n",
       "      <td>3</td>\n",
       "      <td>married</td>\n",
       "      <td>165665</td>\n",
       "      <td>443895</td>\n",
       "      <td>...</td>\n",
       "      <td>Regularly busy</td>\n",
       "      <td>Busiest days</td>\n",
       "      <td>Most orders</td>\n",
       "      <td>8</td>\n",
       "      <td>New customer</td>\n",
       "      <td>7.988889</td>\n",
       "      <td>Low spender</td>\n",
       "      <td>19.0</td>\n",
       "      <td>Regular customer</td>\n",
       "      <td>both</td>\n",
       "    </tr>\n",
       "    <tr>\n",
       "      <th>1</th>\n",
       "      <td>26711</td>\n",
       "      <td>Deborah</td>\n",
       "      <td>Esquivel</td>\n",
       "      <td>Female</td>\n",
       "      <td>Missouri</td>\n",
       "      <td>48</td>\n",
       "      <td>3</td>\n",
       "      <td>married</td>\n",
       "      <td>165665</td>\n",
       "      <td>443897</td>\n",
       "      <td>...</td>\n",
       "      <td>Regularly busy</td>\n",
       "      <td>Regularly busy</td>\n",
       "      <td>Most orders</td>\n",
       "      <td>8</td>\n",
       "      <td>New customer</td>\n",
       "      <td>7.988889</td>\n",
       "      <td>Low spender</td>\n",
       "      <td>19.0</td>\n",
       "      <td>Regular customer</td>\n",
       "      <td>both</td>\n",
       "    </tr>\n",
       "    <tr>\n",
       "      <th>2</th>\n",
       "      <td>26711</td>\n",
       "      <td>Deborah</td>\n",
       "      <td>Esquivel</td>\n",
       "      <td>Female</td>\n",
       "      <td>Missouri</td>\n",
       "      <td>48</td>\n",
       "      <td>3</td>\n",
       "      <td>married</td>\n",
       "      <td>165665</td>\n",
       "      <td>443898</td>\n",
       "      <td>...</td>\n",
       "      <td>Regularly busy</td>\n",
       "      <td>Busiest days</td>\n",
       "      <td>Most orders</td>\n",
       "      <td>8</td>\n",
       "      <td>New customer</td>\n",
       "      <td>7.988889</td>\n",
       "      <td>Low spender</td>\n",
       "      <td>19.0</td>\n",
       "      <td>Regular customer</td>\n",
       "      <td>both</td>\n",
       "    </tr>\n",
       "    <tr>\n",
       "      <th>3</th>\n",
       "      <td>26711</td>\n",
       "      <td>Deborah</td>\n",
       "      <td>Esquivel</td>\n",
       "      <td>Female</td>\n",
       "      <td>Missouri</td>\n",
       "      <td>48</td>\n",
       "      <td>3</td>\n",
       "      <td>married</td>\n",
       "      <td>165665</td>\n",
       "      <td>443892</td>\n",
       "      <td>...</td>\n",
       "      <td>Regularly busy</td>\n",
       "      <td>Regularly busy</td>\n",
       "      <td>Most orders</td>\n",
       "      <td>8</td>\n",
       "      <td>New customer</td>\n",
       "      <td>7.988889</td>\n",
       "      <td>Low spender</td>\n",
       "      <td>19.0</td>\n",
       "      <td>Regular customer</td>\n",
       "      <td>both</td>\n",
       "    </tr>\n",
       "    <tr>\n",
       "      <th>4</th>\n",
       "      <td>26711</td>\n",
       "      <td>Deborah</td>\n",
       "      <td>Esquivel</td>\n",
       "      <td>Female</td>\n",
       "      <td>Missouri</td>\n",
       "      <td>48</td>\n",
       "      <td>3</td>\n",
       "      <td>married</td>\n",
       "      <td>165665</td>\n",
       "      <td>443893</td>\n",
       "      <td>...</td>\n",
       "      <td>Regularly busy</td>\n",
       "      <td>Slowest days</td>\n",
       "      <td>Most orders</td>\n",
       "      <td>8</td>\n",
       "      <td>New customer</td>\n",
       "      <td>7.988889</td>\n",
       "      <td>Low spender</td>\n",
       "      <td>19.0</td>\n",
       "      <td>Regular customer</td>\n",
       "      <td>both</td>\n",
       "    </tr>\n",
       "  </tbody>\n",
       "</table>\n",
       "<p>5 rows × 35 columns</p>\n",
       "</div>"
      ],
      "text/plain": [
       "  user_id first_name last_name  Gender     STATE  Age  no_of_dependants  \\\n",
       "0   26711    Deborah  Esquivel  Female  Missouri   48                 3   \n",
       "1   26711    Deborah  Esquivel  Female  Missouri   48                 3   \n",
       "2   26711    Deborah  Esquivel  Female  Missouri   48                 3   \n",
       "3   26711    Deborah  Esquivel  Female  Missouri   48                 3   \n",
       "4   26711    Deborah  Esquivel  Female  Missouri   48                 3   \n",
       "\n",
       "  fam_status  income  Unnamed: 0.1  ...     busiest_day  busy_slow_days  \\\n",
       "0    married  165665        443895  ...  Regularly busy    Busiest days   \n",
       "1    married  165665        443897  ...  Regularly busy  Regularly busy   \n",
       "2    married  165665        443898  ...  Regularly busy    Busiest days   \n",
       "3    married  165665        443892  ...  Regularly busy  Regularly busy   \n",
       "4    married  165665        443893  ...  Regularly busy    Slowest days   \n",
       "\n",
       "   busiest_period_of_day  max_order  loyalty_flag  mean_price  spending_flag  \\\n",
       "0            Most orders          8  New customer    7.988889    Low spender   \n",
       "1            Most orders          8  New customer    7.988889    Low spender   \n",
       "2            Most orders          8  New customer    7.988889    Low spender   \n",
       "3            Most orders          8  New customer    7.988889    Low spender   \n",
       "4            Most orders          8  New customer    7.988889    Low spender   \n",
       "\n",
       "   median_days_since    frequency_flag  _merge  \n",
       "0               19.0  Regular customer    both  \n",
       "1               19.0  Regular customer    both  \n",
       "2               19.0  Regular customer    both  \n",
       "3               19.0  Regular customer    both  \n",
       "4               19.0  Regular customer    both  \n",
       "\n",
       "[5 rows x 35 columns]"
      ]
     },
     "execution_count": 27,
     "metadata": {},
     "output_type": "execute_result"
    }
   ],
   "source": [
    "orders_products_cust_merged.head()"
   ]
  },
  {
   "cell_type": "code",
   "execution_count": 28,
   "id": "81c90264",
   "metadata": {},
   "outputs": [
    {
     "data": {
      "text/plain": [
       "(32404859, 35)"
      ]
     },
     "execution_count": 28,
     "metadata": {},
     "output_type": "execute_result"
    }
   ],
   "source": [
    "# Check the shape of the new 'orders_products_cust_merged':\n",
    "\n",
    "orders_products_cust_merged.shape"
   ]
  },
  {
   "cell_type": "code",
   "execution_count": 29,
   "id": "0b9c9f7a",
   "metadata": {},
   "outputs": [
    {
     "data": {
      "text/plain": [
       "Index(['user_id', 'first_name', 'last_name', 'Gender', 'STATE', 'Age',\n",
       "       'no_of_dependants', 'fam_status', 'income', 'Unnamed: 0.1',\n",
       "       'Unnamed: 0_x', 'order_id', 'order_number', 'orders_day_of_week',\n",
       "       'time_of_order, hour', 'days_since_prior_order', 'product_id',\n",
       "       'add_to_cart_order', 'reordered', 'Unnamed: 0_y', 'product_name',\n",
       "       'aisle_id', 'department_id', 'prices', 'price_range_loc', 'busiest_day',\n",
       "       'busy_slow_days', 'busiest_period_of_day', 'max_order', 'loyalty_flag',\n",
       "       'mean_price', 'spending_flag', 'median_days_since', 'frequency_flag',\n",
       "       '_merge'],\n",
       "      dtype='object')"
      ]
     },
     "execution_count": 29,
     "metadata": {},
     "output_type": "execute_result"
    }
   ],
   "source": [
    "orders_products_cust_merged.columns"
   ]
  },
  {
   "cell_type": "code",
   "execution_count": 30,
   "id": "e6bc66ee",
   "metadata": {},
   "outputs": [
    {
     "data": {
      "text/plain": [
       "both          32404859\n",
       "left_only            0\n",
       "right_only           0\n",
       "Name: _merge, dtype: int64"
      ]
     },
     "execution_count": 30,
     "metadata": {},
     "output_type": "execute_result"
    }
   ],
   "source": [
    "# Confirm the results of the merge using merge flag:\n",
    "    \n",
    "orders_products_cust_merged['_merge'].value_counts()"
   ]
  },
  {
   "cell_type": "markdown",
   "id": "889ebdf8",
   "metadata": {},
   "source": [
    "# 6. Exporting 'orders_products_cust_merged' as 'orders_products_customers_merged.pkl'"
   ]
  },
  {
   "cell_type": "code",
   "execution_count": 31,
   "id": "82b7ac67",
   "metadata": {},
   "outputs": [],
   "source": [
    "# Item 8. Export 'orders_products_cust_merged':\n",
    "\n",
    "orders_products_cust_merged.to_pickle(os.path.join(path, '02 Data','Prepared Data','orders_products_customers_merged.pkl'))"
   ]
  }
 ],
 "metadata": {
  "kernelspec": {
   "display_name": "Python 3 (ipykernel)",
   "language": "python",
   "name": "python3"
  },
  "language_info": {
   "codemirror_mode": {
    "name": "ipython",
    "version": 3
   },
   "file_extension": ".py",
   "mimetype": "text/x-python",
   "name": "python",
   "nbconvert_exporter": "python",
   "pygments_lexer": "ipython3",
   "version": "3.9.13"
  }
 },
 "nbformat": 4,
 "nbformat_minor": 5
}
